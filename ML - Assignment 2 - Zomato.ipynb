{
 "cells": [
  {
   "cell_type": "code",
   "execution_count": null,
   "metadata": {},
   "outputs": [],
   "source": [
    "import pandas as pd\n",
    "import selenium\n",
    "from selenium import webdriver"
   ]
  },
  {
   "cell_type": "code",
   "execution_count": null,
   "metadata": {},
   "outputs": [],
   "source": [
    "browser = webdriver.Chrome('chromedriver.exe')"
   ]
  },
  {
   "cell_type": "code",
   "execution_count": null,
   "metadata": {},
   "outputs": [],
   "source": [
    "url = \"https://www.zomato.com/bangalore/great-food-no-bull\"\n",
    "browser.get(url)"
   ]
  },
  {
   "cell_type": "code",
   "execution_count": null,
   "metadata": {},
   "outputs": [],
   "source": [
    "#more_sel = \"div.load-more\"\n",
    "#load_more_button = browser.find_element_by_css_selector(more_sel)\n",
    "#load_more_button.click()\n",
    "rest_url = browser.find_elements_by_css_selector('div.h100.pb20')\n",
    "#print(len(rest_url))\n",
    "\n",
    "main = browser.find_elements_by_css_selector('div.ui.segment.clearfix.brtop')\n",
    "#print(main)\n"
   ]
  },
  {
   "cell_type": "code",
   "execution_count": null,
   "metadata": {},
   "outputs": [],
   "source": [
    "data_df = pd.DataFrame(columns=['Restro_name','Restro_link','Avg_rating','Location'])\n",
    "for i in rest_url:\n",
    "    try:\n",
    "        rest_name = i.find_element_by_css_selector('div.res_title.zblack.bold.nowrap').get_attribute('title')\n",
    "    except Exception:\n",
    "        rest_name = i.find_element_by_css_selector('div.res_title.zblack.bold').get_attribute('title')\n",
    "    rest_link = i.find_element_by_css_selector('a.jumbo_track_collections').get_attribute('href')\n",
    "    try:\n",
    "        avg_rating = i.find_element_by_css_selector('div').find_element_by_css_selector('a.relative.top-res-box-bg.pl10.ptop0').find_element_by_css_selector('div').get_attribute('innerHTML')\n",
    "    except Exception:\n",
    "        None\n",
    "    \n",
    "    location = i.find_element_by_css_selector('div.nowrap.grey-text.fontsize5.ttupper').get_attribute('innerHTML')\n",
    "    data_df = data_df.append({'Restro_name':restro_name,'Restro_link':restro_link,'Avg_rating':avg_rating,'Location':location}, ignore_index=True)\n",
    "    \n",
    "data_df['Avg_rating'] = data_df['Avg_rating'].str.replace('\\n','').astype(float)    "
   ]
  },
  {
   "cell_type": "code",
   "execution_count": null,
   "metadata": {},
   "outputs": [],
   "source": [
    "df = pd.DataFrame(columns=['Restro_name','UserId','UserName','Rating'])\n",
    "for j in restro_df.index.tolist():\n",
    "    browser.get(restro_df['Restro_link'].loc[j])\n",
    "    while True:\n",
    "        more_sel = 'div.load-more'\n",
    "        try:\n",
    "            load_more_button = browser.find_element_by_css_selector(more_sel)\n",
    "            load_more_button.click()\n",
    "        except:\n",
    "            break\n",
    "    bucket = browser.find_elements_by_css_selector('div.ui.segment.clearfix.brtop')\n",
    "    \n",
    "    for i in bucket:\n",
    "        restro_name = restro_df['Restro_name'].loc[j]\n",
    "        \n",
    "        userid = i.find_element_by_css_selector('a[data-entity_id]').get_attribute('data-entity_id')\n",
    "    \n",
    "        user_name = i.find_element_by_css_selector('a[data-entity_id]').get_attribute('innerHTML')\n",
    "        print(user_name)\n",
    "        rating = i.find_element_by_css_selector('div.rev-text.mbot0').find_element_by_css_selector('div').get_attribute('aria-label')\n",
    "    \n",
    "    \n",
    "        df = df.append({'Restro_name':restro_name,'UserId' : userid,'UserName': user_name,'Rating':rating}, ignore_index=True)"
   ]
  }
 ],
 "metadata": {
  "kernelspec": {
   "display_name": "Python 3",
   "language": "python",
   "name": "python3"
  },
  "language_info": {
   "codemirror_mode": {
    "name": "ipython",
    "version": 3
   },
   "file_extension": ".py",
   "mimetype": "text/x-python",
   "name": "python",
   "nbconvert_exporter": "python",
   "pygments_lexer": "ipython3",
   "version": "3.6.5"
  }
 },
 "nbformat": 4,
 "nbformat_minor": 2
}
