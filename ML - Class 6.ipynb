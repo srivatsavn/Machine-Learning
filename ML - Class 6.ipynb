{
 "cells": [
  {
   "cell_type": "code",
   "execution_count": 1,
   "metadata": {},
   "outputs": [],
   "source": [
    "import pandas as pd\n",
    "import numpy as np\n",
    "from sklearn.tree import DecisionTreeClassifier\n",
    "from sklearn.ensemble import RandomForestClassifier\n",
    "from sklearn.ensemble import AdaBoostClassifier\n",
    "from sklearn.model_selection import train_test_split\n",
    "from sklearn.metrics import confusion_matrix\n",
    "from sklearn.preprocessing import StandardScaler\n",
    "from sklearn.metrics.pairwise import euclidean_distances"
   ]
  },
  {
   "cell_type": "code",
   "execution_count": 3,
   "metadata": {},
   "outputs": [
    {
     "data": {
      "text/plain": [
       "0    1\n",
       "1    2\n",
       "2    1\n",
       "3    1\n",
       "4    2\n",
       "Name: default, dtype: int64"
      ]
     },
     "execution_count": 3,
     "metadata": {},
     "output_type": "execute_result"
    }
   ],
   "source": [
    "credit = pd.read_csv('C:/Users/Administrator/Desktop/Datasets/credit-default.csv')\n",
    "credit['default'].head()"
   ]
  },
  {
   "cell_type": "code",
   "execution_count": 4,
   "metadata": {},
   "outputs": [
    {
     "data": {
      "text/plain": [
       "1    700\n",
       "2    300\n",
       "Name: default, dtype: int64"
      ]
     },
     "execution_count": 4,
     "metadata": {},
     "output_type": "execute_result"
    }
   ],
   "source": [
    "credit['default'].value_counts()"
   ]
  },
  {
   "cell_type": "code",
   "execution_count": 5,
   "metadata": {
    "collapsed": true
   },
   "outputs": [
    {
     "data": {
      "text/plain": [
       "checking_balance        0\n",
       "months_loan_duration    0\n",
       "credit_history          0\n",
       "purpose                 0\n",
       "amount                  0\n",
       "savings_balance         0\n",
       "employment_length       0\n",
       "installment_rate        0\n",
       "personal_status         0\n",
       "other_debtors           0\n",
       "residence_history       0\n",
       "property                0\n",
       "age                     0\n",
       "installment_plan        0\n",
       "housing                 0\n",
       "existing_credits        0\n",
       "default                 0\n",
       "dependents              0\n",
       "telephone               0\n",
       "foreign_worker          0\n",
       "job                     0\n",
       "dtype: int64"
      ]
     },
     "execution_count": 5,
     "metadata": {},
     "output_type": "execute_result"
    }
   ],
   "source": [
    "pd.isnull(credit).sum()"
   ]
  },
  {
   "cell_type": "code",
   "execution_count": 6,
   "metadata": {},
   "outputs": [],
   "source": [
    "credit_dummies = pd.get_dummies(credit)"
   ]
  },
  {
   "cell_type": "code",
   "execution_count": 7,
   "metadata": {},
   "outputs": [
    {
     "data": {
      "text/html": [
       "<div>\n",
       "<style scoped>\n",
       "    .dataframe tbody tr th:only-of-type {\n",
       "        vertical-align: middle;\n",
       "    }\n",
       "\n",
       "    .dataframe tbody tr th {\n",
       "        vertical-align: top;\n",
       "    }\n",
       "\n",
       "    .dataframe thead th {\n",
       "        text-align: right;\n",
       "    }\n",
       "</style>\n",
       "<table border=\"1\" class=\"dataframe\">\n",
       "  <thead>\n",
       "    <tr style=\"text-align: right;\">\n",
       "      <th></th>\n",
       "      <th>months_loan_duration</th>\n",
       "      <th>amount</th>\n",
       "      <th>installment_rate</th>\n",
       "      <th>residence_history</th>\n",
       "      <th>age</th>\n",
       "      <th>existing_credits</th>\n",
       "      <th>default</th>\n",
       "      <th>dependents</th>\n",
       "      <th>checking_balance_1 - 200 DM</th>\n",
       "      <th>checking_balance_&lt; 0 DM</th>\n",
       "      <th>...</th>\n",
       "      <th>housing_own</th>\n",
       "      <th>housing_rent</th>\n",
       "      <th>telephone_none</th>\n",
       "      <th>telephone_yes</th>\n",
       "      <th>foreign_worker_no</th>\n",
       "      <th>foreign_worker_yes</th>\n",
       "      <th>job_mangement self-employed</th>\n",
       "      <th>job_skilled employee</th>\n",
       "      <th>job_unemployed non-resident</th>\n",
       "      <th>job_unskilled resident</th>\n",
       "    </tr>\n",
       "  </thead>\n",
       "  <tbody>\n",
       "    <tr>\n",
       "      <th>0</th>\n",
       "      <td>6</td>\n",
       "      <td>1169</td>\n",
       "      <td>4</td>\n",
       "      <td>4</td>\n",
       "      <td>67</td>\n",
       "      <td>2</td>\n",
       "      <td>1</td>\n",
       "      <td>1</td>\n",
       "      <td>0</td>\n",
       "      <td>1</td>\n",
       "      <td>...</td>\n",
       "      <td>1</td>\n",
       "      <td>0</td>\n",
       "      <td>0</td>\n",
       "      <td>1</td>\n",
       "      <td>0</td>\n",
       "      <td>1</td>\n",
       "      <td>0</td>\n",
       "      <td>1</td>\n",
       "      <td>0</td>\n",
       "      <td>0</td>\n",
       "    </tr>\n",
       "    <tr>\n",
       "      <th>1</th>\n",
       "      <td>48</td>\n",
       "      <td>5951</td>\n",
       "      <td>2</td>\n",
       "      <td>2</td>\n",
       "      <td>22</td>\n",
       "      <td>1</td>\n",
       "      <td>2</td>\n",
       "      <td>1</td>\n",
       "      <td>1</td>\n",
       "      <td>0</td>\n",
       "      <td>...</td>\n",
       "      <td>1</td>\n",
       "      <td>0</td>\n",
       "      <td>1</td>\n",
       "      <td>0</td>\n",
       "      <td>0</td>\n",
       "      <td>1</td>\n",
       "      <td>0</td>\n",
       "      <td>1</td>\n",
       "      <td>0</td>\n",
       "      <td>0</td>\n",
       "    </tr>\n",
       "    <tr>\n",
       "      <th>2</th>\n",
       "      <td>12</td>\n",
       "      <td>2096</td>\n",
       "      <td>2</td>\n",
       "      <td>3</td>\n",
       "      <td>49</td>\n",
       "      <td>1</td>\n",
       "      <td>1</td>\n",
       "      <td>2</td>\n",
       "      <td>0</td>\n",
       "      <td>0</td>\n",
       "      <td>...</td>\n",
       "      <td>1</td>\n",
       "      <td>0</td>\n",
       "      <td>1</td>\n",
       "      <td>0</td>\n",
       "      <td>0</td>\n",
       "      <td>1</td>\n",
       "      <td>0</td>\n",
       "      <td>0</td>\n",
       "      <td>0</td>\n",
       "      <td>1</td>\n",
       "    </tr>\n",
       "    <tr>\n",
       "      <th>3</th>\n",
       "      <td>42</td>\n",
       "      <td>7882</td>\n",
       "      <td>2</td>\n",
       "      <td>4</td>\n",
       "      <td>45</td>\n",
       "      <td>1</td>\n",
       "      <td>1</td>\n",
       "      <td>2</td>\n",
       "      <td>0</td>\n",
       "      <td>1</td>\n",
       "      <td>...</td>\n",
       "      <td>0</td>\n",
       "      <td>0</td>\n",
       "      <td>1</td>\n",
       "      <td>0</td>\n",
       "      <td>0</td>\n",
       "      <td>1</td>\n",
       "      <td>0</td>\n",
       "      <td>1</td>\n",
       "      <td>0</td>\n",
       "      <td>0</td>\n",
       "    </tr>\n",
       "    <tr>\n",
       "      <th>4</th>\n",
       "      <td>24</td>\n",
       "      <td>4870</td>\n",
       "      <td>3</td>\n",
       "      <td>4</td>\n",
       "      <td>53</td>\n",
       "      <td>2</td>\n",
       "      <td>2</td>\n",
       "      <td>2</td>\n",
       "      <td>0</td>\n",
       "      <td>1</td>\n",
       "      <td>...</td>\n",
       "      <td>0</td>\n",
       "      <td>0</td>\n",
       "      <td>1</td>\n",
       "      <td>0</td>\n",
       "      <td>0</td>\n",
       "      <td>1</td>\n",
       "      <td>0</td>\n",
       "      <td>1</td>\n",
       "      <td>0</td>\n",
       "      <td>0</td>\n",
       "    </tr>\n",
       "  </tbody>\n",
       "</table>\n",
       "<p>5 rows × 62 columns</p>\n",
       "</div>"
      ],
      "text/plain": [
       "   months_loan_duration  amount  installment_rate  residence_history  age  \\\n",
       "0                     6    1169                 4                  4   67   \n",
       "1                    48    5951                 2                  2   22   \n",
       "2                    12    2096                 2                  3   49   \n",
       "3                    42    7882                 2                  4   45   \n",
       "4                    24    4870                 3                  4   53   \n",
       "\n",
       "   existing_credits  default  dependents  checking_balance_1 - 200 DM  \\\n",
       "0                 2        1           1                            0   \n",
       "1                 1        2           1                            1   \n",
       "2                 1        1           2                            0   \n",
       "3                 1        1           2                            0   \n",
       "4                 2        2           2                            0   \n",
       "\n",
       "   checking_balance_< 0 DM           ...            housing_own  housing_rent  \\\n",
       "0                        1           ...                      1             0   \n",
       "1                        0           ...                      1             0   \n",
       "2                        0           ...                      1             0   \n",
       "3                        1           ...                      0             0   \n",
       "4                        1           ...                      0             0   \n",
       "\n",
       "   telephone_none  telephone_yes  foreign_worker_no  foreign_worker_yes  \\\n",
       "0               0              1                  0                   1   \n",
       "1               1              0                  0                   1   \n",
       "2               1              0                  0                   1   \n",
       "3               1              0                  0                   1   \n",
       "4               1              0                  0                   1   \n",
       "\n",
       "   job_mangement self-employed  job_skilled employee  \\\n",
       "0                            0                     1   \n",
       "1                            0                     1   \n",
       "2                            0                     0   \n",
       "3                            0                     1   \n",
       "4                            0                     1   \n",
       "\n",
       "   job_unemployed non-resident  job_unskilled resident  \n",
       "0                            0                       0  \n",
       "1                            0                       0  \n",
       "2                            0                       1  \n",
       "3                            0                       0  \n",
       "4                            0                       0  \n",
       "\n",
       "[5 rows x 62 columns]"
      ]
     },
     "execution_count": 7,
     "metadata": {},
     "output_type": "execute_result"
    }
   ],
   "source": [
    "credit_dummies.head()"
   ]
  },
  {
   "cell_type": "markdown",
   "metadata": {},
   "source": [
    "## Improving model's performance\n",
    "   - Feature selection\n",
    "        - Correlation, Chi-Square, ANNOVA\n",
    "   - Feture extraction\n",
    "        - Principal Component Analysis\n",
    "   - Feature engineering\n",
    "        - Create new columns, transform numerical individual columns(log, sqrt,...)\n",
    "   - Hyperparametric tuning\n",
    "   - ..."
   ]
  },
  {
   "cell_type": "markdown",
   "metadata": {},
   "source": [
    "# PCA"
   ]
  },
  {
   "cell_type": "code",
   "execution_count": 10,
   "metadata": {},
   "outputs": [
    {
     "data": {
      "text/plain": [
       "[<matplotlib.lines.Line2D at 0x1bae8b5a320>]"
      ]
     },
     "execution_count": 10,
     "metadata": {},
     "output_type": "execute_result"
    },
    {
     "data": {
      "image/png": "[encoded data removed]",
      "text/plain": [
       "<Figure size 432x288 with 1 Axes>"
      ]
     },
     "metadata": {},
     "output_type": "display_data"
    }
   ],
   "source": [
    "ellipse = pd.read_csv('ellipse.csv')\n",
    "\n",
    "import matplotlib.pyplot as plt\n",
    "plt.plot(ellipse['x'], ellipse['y'])"
   ]
  },
  {
   "cell_type": "code",
   "execution_count": 11,
   "metadata": {},
   "outputs": [
    {
     "data": {
      "text/plain": [
       "(629, 2)"
      ]
     },
     "execution_count": 11,
     "metadata": {},
     "output_type": "execute_result"
    }
   ],
   "source": [
    "ellipse.shape"
   ]
  },
  {
   "cell_type": "code",
   "execution_count": 13,
   "metadata": {},
   "outputs": [
    {
     "data": {
      "text/html": [
       "<div>\n",
       "<style scoped>\n",
       "    .dataframe tbody tr th:only-of-type {\n",
       "        vertical-align: middle;\n",
       "    }\n",
       "\n",
       "    .dataframe tbody tr th {\n",
       "        vertical-align: top;\n",
       "    }\n",
       "\n",
       "    .dataframe thead th {\n",
       "        text-align: right;\n",
       "    }\n",
       "</style>\n",
       "<table border=\"1\" class=\"dataframe\">\n",
       "  <thead>\n",
       "    <tr style=\"text-align: right;\">\n",
       "      <th></th>\n",
       "      <th>x</th>\n",
       "      <th>y</th>\n",
       "    </tr>\n",
       "  </thead>\n",
       "  <tbody>\n",
       "    <tr>\n",
       "      <th>x</th>\n",
       "      <td>1.000000</td>\n",
       "      <td>0.552432</td>\n",
       "    </tr>\n",
       "    <tr>\n",
       "      <th>y</th>\n",
       "      <td>0.552432</td>\n",
       "      <td>1.000000</td>\n",
       "    </tr>\n",
       "  </tbody>\n",
       "</table>\n",
       "</div>"
      ],
      "text/plain": [
       "          x         y\n",
       "x  1.000000  0.552432\n",
       "y  0.552432  1.000000"
      ]
     },
     "execution_count": 13,
     "metadata": {},
     "output_type": "execute_result"
    }
   ],
   "source": [
    "ellipse.corr()"
   ]
  },
  {
   "cell_type": "code",
   "execution_count": 14,
   "metadata": {},
   "outputs": [],
   "source": [
    "from numpy.linalg import eig\n",
    "evalue, evector = eig(ellipse.corr())"
   ]
  },
  {
   "cell_type": "code",
   "execution_count": 15,
   "metadata": {},
   "outputs": [
    {
     "data": {
      "text/plain": [
       "array([1.552432, 0.447568])"
      ]
     },
     "execution_count": 15,
     "metadata": {},
     "output_type": "execute_result"
    }
   ],
   "source": [
    "evalue"
   ]
  },
  {
   "cell_type": "code",
   "execution_count": 16,
   "metadata": {},
   "outputs": [
    {
     "data": {
      "text/plain": [
       "array([[ 0.70710678, -0.70710678],\n",
       "       [ 0.70710678,  0.70710678]])"
      ]
     },
     "execution_count": 16,
     "metadata": {},
     "output_type": "execute_result"
    }
   ],
   "source": [
    "evector"
   ]
  },
  {
   "cell_type": "code",
   "execution_count": 18,
   "metadata": {},
   "outputs": [
    {
     "data": {
      "text/html": [
       "<div>\n",
       "<style scoped>\n",
       "    .dataframe tbody tr th:only-of-type {\n",
       "        vertical-align: middle;\n",
       "    }\n",
       "\n",
       "    .dataframe tbody tr th {\n",
       "        vertical-align: top;\n",
       "    }\n",
       "\n",
       "    .dataframe thead th {\n",
       "        text-align: right;\n",
       "    }\n",
       "</style>\n",
       "<table border=\"1\" class=\"dataframe\">\n",
       "  <thead>\n",
       "    <tr style=\"text-align: right;\">\n",
       "      <th></th>\n",
       "      <th>x</th>\n",
       "      <th>y</th>\n",
       "    </tr>\n",
       "  </thead>\n",
       "  <tbody>\n",
       "    <tr>\n",
       "      <th>0</th>\n",
       "      <td>3.500000</td>\n",
       "      <td>4.500000</td>\n",
       "    </tr>\n",
       "    <tr>\n",
       "      <th>1</th>\n",
       "      <td>3.482555</td>\n",
       "      <td>4.509875</td>\n",
       "    </tr>\n",
       "    <tr>\n",
       "      <th>2</th>\n",
       "      <td>3.464861</td>\n",
       "      <td>4.519499</td>\n",
       "    </tr>\n",
       "    <tr>\n",
       "      <th>3</th>\n",
       "      <td>3.446921</td>\n",
       "      <td>4.528871</td>\n",
       "    </tr>\n",
       "    <tr>\n",
       "      <th>4</th>\n",
       "      <td>3.428737</td>\n",
       "      <td>4.537990</td>\n",
       "    </tr>\n",
       "  </tbody>\n",
       "</table>\n",
       "</div>"
      ],
      "text/plain": [
       "          x         y\n",
       "0  3.500000  4.500000\n",
       "1  3.482555  4.509875\n",
       "2  3.464861  4.519499\n",
       "3  3.446921  4.528871\n",
       "4  3.428737  4.537990"
      ]
     },
     "execution_count": 18,
     "metadata": {},
     "output_type": "execute_result"
    }
   ],
   "source": [
    "ellipse.head()"
   ]
  },
  {
   "cell_type": "code",
   "execution_count": 17,
   "metadata": {},
   "outputs": [
    {
     "data": {
      "text/html": [
       "<div>\n",
       "<style scoped>\n",
       "    .dataframe tbody tr th:only-of-type {\n",
       "        vertical-align: middle;\n",
       "    }\n",
       "\n",
       "    .dataframe tbody tr th {\n",
       "        vertical-align: top;\n",
       "    }\n",
       "\n",
       "    .dataframe thead th {\n",
       "        text-align: right;\n",
       "    }\n",
       "</style>\n",
       "<table border=\"1\" class=\"dataframe\">\n",
       "  <thead>\n",
       "    <tr style=\"text-align: right;\">\n",
       "      <th></th>\n",
       "      <th>PC1</th>\n",
       "      <th>PC2</th>\n",
       "    </tr>\n",
       "  </thead>\n",
       "  <tbody>\n",
       "    <tr>\n",
       "      <th>0</th>\n",
       "      <td>-3.510896</td>\n",
       "      <td>-0.382795</td>\n",
       "    </tr>\n",
       "    <tr>\n",
       "      <th>1</th>\n",
       "      <td>-3.503481</td>\n",
       "      <td>-0.401419</td>\n",
       "    </tr>\n",
       "    <tr>\n",
       "      <th>2</th>\n",
       "      <td>-3.495715</td>\n",
       "      <td>-0.420003</td>\n",
       "    </tr>\n",
       "    <tr>\n",
       "      <th>3</th>\n",
       "      <td>-3.487598</td>\n",
       "      <td>-0.438545</td>\n",
       "    </tr>\n",
       "    <tr>\n",
       "      <th>4</th>\n",
       "      <td>-3.479133</td>\n",
       "      <td>-0.457043</td>\n",
       "    </tr>\n",
       "  </tbody>\n",
       "</table>\n",
       "</div>"
      ],
      "text/plain": [
       "        PC1       PC2\n",
       "0 -3.510896 -0.382795\n",
       "1 -3.503481 -0.401419\n",
       "2 -3.495715 -0.420003\n",
       "3 -3.487598 -0.438545\n",
       "4 -3.479133 -0.457043"
      ]
     },
     "execution_count": 17,
     "metadata": {},
     "output_type": "execute_result"
    }
   ],
   "source": [
    "from sklearn.decomposition import PCA\n",
    "pc_class = PCA()\n",
    "\n",
    "pcs = pd.DataFrame(pc_class.fit_transform(ellipse), columns=['PC1', 'PC2'])\n",
    "pcs.head()"
   ]
  },
  {
   "cell_type": "code",
   "execution_count": 21,
   "metadata": {},
   "outputs": [
    {
     "data": {
      "text/plain": [
       "[<matplotlib.lines.Line2D at 0x1bae928b8d0>]"
      ]
     },
     "execution_count": 21,
     "metadata": {},
     "output_type": "execute_result"
    },
    {
     "data": {
      "image/png": "[encoded data removed]",
      "text/plain": [
       "<Figure size 432x288 with 1 Axes>"
      ]
     },
     "metadata": {},
     "output_type": "display_data"
    }
   ],
   "source": [
    "plt.plot(pcs['PC1'], pcs['PC2'])"
   ]
  },
  {
   "cell_type": "code",
   "execution_count": 44,
   "metadata": {},
   "outputs": [
    {
     "data": {
      "text/plain": [
       "[<matplotlib.lines.Line2D at 0x1baea8914a8>]"
      ]
     },
     "execution_count": 44,
     "metadata": {},
     "output_type": "execute_result"
    },
    {
     "data": {
      "image/png": "[encoded data removed]",
      "text/plain": [
       "<Figure size 432x288 with 1 Axes>"
      ]
     },
     "metadata": {},
     "output_type": "display_data"
    }
   ],
   "source": [
    "scaler = StandardScaler()\n",
    "ellipse_scaled = scaler.fit_transform(ellipse)\n",
    "\n",
    "pcs = pd.DataFrame(np.dot(ellipse_scaled, evector), columns=['PC1', 'PC2'])\n",
    "\n",
    "plt.plot(pcs['PC1'], pcs['PC2'])"
   ]
  },
  {
   "cell_type": "code",
   "execution_count": 45,
   "metadata": {},
   "outputs": [
    {
     "data": {
      "text/html": [
       "<div>\n",
       "<style scoped>\n",
       "    .dataframe tbody tr th:only-of-type {\n",
       "        vertical-align: middle;\n",
       "    }\n",
       "\n",
       "    .dataframe tbody tr th {\n",
       "        vertical-align: top;\n",
       "    }\n",
       "\n",
       "    .dataframe thead th {\n",
       "        text-align: right;\n",
       "    }\n",
       "</style>\n",
       "<table border=\"1\" class=\"dataframe\">\n",
       "  <thead>\n",
       "    <tr style=\"text-align: right;\">\n",
       "      <th></th>\n",
       "      <th>PC1</th>\n",
       "      <th>PC2</th>\n",
       "    </tr>\n",
       "  </thead>\n",
       "  <tbody>\n",
       "    <tr>\n",
       "      <th>0</th>\n",
       "      <td>1.748056</td>\n",
       "      <td>0</td>\n",
       "    </tr>\n",
       "    <tr>\n",
       "      <th>1</th>\n",
       "      <td>1.745987</td>\n",
       "      <td>0</td>\n",
       "    </tr>\n",
       "    <tr>\n",
       "      <th>2</th>\n",
       "      <td>1.743744</td>\n",
       "      <td>0</td>\n",
       "    </tr>\n",
       "    <tr>\n",
       "      <th>3</th>\n",
       "      <td>1.741326</td>\n",
       "      <td>0</td>\n",
       "    </tr>\n",
       "    <tr>\n",
       "      <th>4</th>\n",
       "      <td>1.738733</td>\n",
       "      <td>0</td>\n",
       "    </tr>\n",
       "  </tbody>\n",
       "</table>\n",
       "</div>"
      ],
      "text/plain": [
       "        PC1  PC2\n",
       "0  1.748056    0\n",
       "1  1.745987    0\n",
       "2  1.743744    0\n",
       "3  1.741326    0\n",
       "4  1.738733    0"
      ]
     },
     "execution_count": 45,
     "metadata": {},
     "output_type": "execute_result"
    }
   ],
   "source": [
    "pcs_reduced = pcs\n",
    "pcs_reduced['PC2'] = 0\n",
    "pcs_reduced.head()"
   ]
  },
  {
   "cell_type": "code",
   "execution_count": 46,
   "metadata": {},
   "outputs": [
    {
     "data": {
      "text/plain": [
       "[<matplotlib.lines.Line2D at 0x1baea8fa588>]"
      ]
     },
     "execution_count": 46,
     "metadata": {},
     "output_type": "execute_result"
    },
    {
     "data": {
      "image/png": "[encoded data removed]",
      "text/plain": [
       "<Figure size 432x288 with 1 Axes>"
      ]
     },
     "metadata": {},
     "output_type": "display_data"
    }
   ],
   "source": [
    "ellipse_reconstructed = np.dot(pcs_reduced, np.matrix.transpose(evector))\n",
    "ellipse_reconstructed = pd.DataFrame(ellipse_reconstructed, columns=ellipse.columns)\n",
    "\n",
    "df_ellipse_scaled = pd.DataFrame(ellipse_scaled, columns=['x','y'])\n",
    "plt.plot(df_ellipse_scaled['x'], df_ellipse_scaled['y'])\n",
    "plt.plot(ellipse_reconstructed['x'], ellipse_reconstructed['y'], color = 'red')"
   ]
  },
  {
   "cell_type": "code",
   "execution_count": 54,
   "metadata": {},
   "outputs": [
    {
     "data": {
      "text/plain": [
       "[<matplotlib.lines.Line2D at 0x1baeaa31358>]"
      ]
     },
     "execution_count": 54,
     "metadata": {},
     "output_type": "execute_result"
    },
    {
     "data": {
      "image/png": "[encoded data removed]",
      "text/plain": [
       "<Figure size 432x288 with 1 Axes>"
      ]
     },
     "metadata": {},
     "output_type": "display_data"
    }
   ],
   "source": [
    "a = np.arange(0,10 , .10)\n",
    "b = np.sin(a)\n",
    "plt.plot(a,b)"
   ]
  },
  {
   "cell_type": "code",
   "execution_count": 58,
   "metadata": {},
   "outputs": [
    {
     "data": {
      "text/plain": [
       "[<matplotlib.lines.Line2D at 0x1baeab374a8>]"
      ]
     },
     "execution_count": 58,
     "metadata": {},
     "output_type": "execute_result"
    },
    {
     "data": {
      "image/png": "[encoded data removed]",
      "text/plain": [
       "<Figure size 432x288 with 1 Axes>"
      ]
     },
     "metadata": {},
     "output_type": "display_data"
    }
   ],
   "source": [
    "b = np.sin(ellipse['y'])\n",
    "plt.plot(b)"
   ]
  },
  {
   "cell_type": "code",
   "execution_count": 59,
   "metadata": {},
   "outputs": [
    {
     "data": {
      "text/html": [
       "<div>\n",
       "<style scoped>\n",
       "    .dataframe tbody tr th:only-of-type {\n",
       "        vertical-align: middle;\n",
       "    }\n",
       "\n",
       "    .dataframe tbody tr th {\n",
       "        vertical-align: top;\n",
       "    }\n",
       "\n",
       "    .dataframe thead th {\n",
       "        text-align: right;\n",
       "    }\n",
       "</style>\n",
       "<table border=\"1\" class=\"dataframe\">\n",
       "  <thead>\n",
       "    <tr style=\"text-align: right;\">\n",
       "      <th></th>\n",
       "      <th>months_loan_duration</th>\n",
       "      <th>amount</th>\n",
       "      <th>installment_rate</th>\n",
       "      <th>residence_history</th>\n",
       "      <th>age</th>\n",
       "      <th>existing_credits</th>\n",
       "      <th>default</th>\n",
       "      <th>dependents</th>\n",
       "      <th>checking_balance_1 - 200 DM</th>\n",
       "      <th>checking_balance_&lt; 0 DM</th>\n",
       "      <th>...</th>\n",
       "      <th>housing_own</th>\n",
       "      <th>housing_rent</th>\n",
       "      <th>telephone_none</th>\n",
       "      <th>telephone_yes</th>\n",
       "      <th>foreign_worker_no</th>\n",
       "      <th>foreign_worker_yes</th>\n",
       "      <th>job_mangement self-employed</th>\n",
       "      <th>job_skilled employee</th>\n",
       "      <th>job_unemployed non-resident</th>\n",
       "      <th>job_unskilled resident</th>\n",
       "    </tr>\n",
       "  </thead>\n",
       "  <tbody>\n",
       "    <tr>\n",
       "      <th>0</th>\n",
       "      <td>6</td>\n",
       "      <td>1169</td>\n",
       "      <td>4</td>\n",
       "      <td>4</td>\n",
       "      <td>67</td>\n",
       "      <td>2</td>\n",
       "      <td>1</td>\n",
       "      <td>1</td>\n",
       "      <td>0</td>\n",
       "      <td>1</td>\n",
       "      <td>...</td>\n",
       "      <td>1</td>\n",
       "      <td>0</td>\n",
       "      <td>0</td>\n",
       "      <td>1</td>\n",
       "      <td>0</td>\n",
       "      <td>1</td>\n",
       "      <td>0</td>\n",
       "      <td>1</td>\n",
       "      <td>0</td>\n",
       "      <td>0</td>\n",
       "    </tr>\n",
       "    <tr>\n",
       "      <th>1</th>\n",
       "      <td>48</td>\n",
       "      <td>5951</td>\n",
       "      <td>2</td>\n",
       "      <td>2</td>\n",
       "      <td>22</td>\n",
       "      <td>1</td>\n",
       "      <td>2</td>\n",
       "      <td>1</td>\n",
       "      <td>1</td>\n",
       "      <td>0</td>\n",
       "      <td>...</td>\n",
       "      <td>1</td>\n",
       "      <td>0</td>\n",
       "      <td>1</td>\n",
       "      <td>0</td>\n",
       "      <td>0</td>\n",
       "      <td>1</td>\n",
       "      <td>0</td>\n",
       "      <td>1</td>\n",
       "      <td>0</td>\n",
       "      <td>0</td>\n",
       "    </tr>\n",
       "    <tr>\n",
       "      <th>2</th>\n",
       "      <td>12</td>\n",
       "      <td>2096</td>\n",
       "      <td>2</td>\n",
       "      <td>3</td>\n",
       "      <td>49</td>\n",
       "      <td>1</td>\n",
       "      <td>1</td>\n",
       "      <td>2</td>\n",
       "      <td>0</td>\n",
       "      <td>0</td>\n",
       "      <td>...</td>\n",
       "      <td>1</td>\n",
       "      <td>0</td>\n",
       "      <td>1</td>\n",
       "      <td>0</td>\n",
       "      <td>0</td>\n",
       "      <td>1</td>\n",
       "      <td>0</td>\n",
       "      <td>0</td>\n",
       "      <td>0</td>\n",
       "      <td>1</td>\n",
       "    </tr>\n",
       "    <tr>\n",
       "      <th>3</th>\n",
       "      <td>42</td>\n",
       "      <td>7882</td>\n",
       "      <td>2</td>\n",
       "      <td>4</td>\n",
       "      <td>45</td>\n",
       "      <td>1</td>\n",
       "      <td>1</td>\n",
       "      <td>2</td>\n",
       "      <td>0</td>\n",
       "      <td>1</td>\n",
       "      <td>...</td>\n",
       "      <td>0</td>\n",
       "      <td>0</td>\n",
       "      <td>1</td>\n",
       "      <td>0</td>\n",
       "      <td>0</td>\n",
       "      <td>1</td>\n",
       "      <td>0</td>\n",
       "      <td>1</td>\n",
       "      <td>0</td>\n",
       "      <td>0</td>\n",
       "    </tr>\n",
       "    <tr>\n",
       "      <th>4</th>\n",
       "      <td>24</td>\n",
       "      <td>4870</td>\n",
       "      <td>3</td>\n",
       "      <td>4</td>\n",
       "      <td>53</td>\n",
       "      <td>2</td>\n",
       "      <td>2</td>\n",
       "      <td>2</td>\n",
       "      <td>0</td>\n",
       "      <td>1</td>\n",
       "      <td>...</td>\n",
       "      <td>0</td>\n",
       "      <td>0</td>\n",
       "      <td>1</td>\n",
       "      <td>0</td>\n",
       "      <td>0</td>\n",
       "      <td>1</td>\n",
       "      <td>0</td>\n",
       "      <td>1</td>\n",
       "      <td>0</td>\n",
       "      <td>0</td>\n",
       "    </tr>\n",
       "  </tbody>\n",
       "</table>\n",
       "<p>5 rows × 62 columns</p>\n",
       "</div>"
      ],
      "text/plain": [
       "   months_loan_duration  amount  installment_rate  residence_history  age  \\\n",
       "0                     6    1169                 4                  4   67   \n",
       "1                    48    5951                 2                  2   22   \n",
       "2                    12    2096                 2                  3   49   \n",
       "3                    42    7882                 2                  4   45   \n",
       "4                    24    4870                 3                  4   53   \n",
       "\n",
       "   existing_credits  default  dependents  checking_balance_1 - 200 DM  \\\n",
       "0                 2        1           1                            0   \n",
       "1                 1        2           1                            1   \n",
       "2                 1        1           2                            0   \n",
       "3                 1        1           2                            0   \n",
       "4                 2        2           2                            0   \n",
       "\n",
       "   checking_balance_< 0 DM           ...            housing_own  housing_rent  \\\n",
       "0                        1           ...                      1             0   \n",
       "1                        0           ...                      1             0   \n",
       "2                        0           ...                      1             0   \n",
       "3                        1           ...                      0             0   \n",
       "4                        1           ...                      0             0   \n",
       "\n",
       "   telephone_none  telephone_yes  foreign_worker_no  foreign_worker_yes  \\\n",
       "0               0              1                  0                   1   \n",
       "1               1              0                  0                   1   \n",
       "2               1              0                  0                   1   \n",
       "3               1              0                  0                   1   \n",
       "4               1              0                  0                   1   \n",
       "\n",
       "   job_mangement self-employed  job_skilled employee  \\\n",
       "0                            0                     1   \n",
       "1                            0                     1   \n",
       "2                            0                     0   \n",
       "3                            0                     1   \n",
       "4                            0                     1   \n",
       "\n",
       "   job_unemployed non-resident  job_unskilled resident  \n",
       "0                            0                       0  \n",
       "1                            0                       0  \n",
       "2                            0                       1  \n",
       "3                            0                       0  \n",
       "4                            0                       0  \n",
       "\n",
       "[5 rows x 62 columns]"
      ]
     },
     "execution_count": 59,
     "metadata": {},
     "output_type": "execute_result"
    }
   ],
   "source": [
    "credit_dummies.head()"
   ]
  },
  {
   "cell_type": "code",
   "execution_count": 60,
   "metadata": {},
   "outputs": [],
   "source": [
    "train, test = train_test_split(credit_dummies, test_size = 0.3, random_state = 100)\n",
    "train_x = train.drop('default', axis = 1)\n",
    "test_x = test.drop('default', axis = 1)\n",
    "train_y = train['default']\n",
    "test_y = test['default']"
   ]
  },
  {
   "cell_type": "code",
   "execution_count": 66,
   "metadata": {},
   "outputs": [
    {
     "name": "stdout",
     "output_type": "stream",
     "text": [
      "0.76\n",
      "             precision    recall  f1-score   support\n",
      "\n",
      "          1       0.79      0.91      0.85       219\n",
      "          2       0.60      0.35      0.44        81\n",
      "\n",
      "avg / total       0.74      0.76      0.74       300\n",
      "\n"
     ]
    }
   ],
   "source": [
    "m1 = RandomForestClassifier(random_state=100)\n",
    "m1.fit(train_x,train_y)\n",
    "test_pred1 = m1.predict(test_x)\n",
    "\n",
    "from sklearn.metrics import accuracy_score, classification_report\n",
    "print(accuracy_score(test_pred1, test_y))\n",
    "print(classification_report(test_y, test_pred1))"
   ]
  },
  {
   "cell_type": "code",
   "execution_count": 63,
   "metadata": {},
   "outputs": [],
   "source": [
    "m2 = RandomForestClassifier(random_state=100)\n",
    "\n",
    "pc_transformer = PCA()\n",
    "scaler = StandardScaler()\n",
    "scaler.fit(train_x)\n",
    "\n",
    "train_x_scaled = scaler.transform(train_x)\n",
    "test_x_scaled = scaler.transform(test_x)\n",
    "\n",
    "pc_transformer.fit(train_x_scaled)\n",
    "pcs_train = pc_transformer.transform(train_x_scaled)\n",
    "pcs_test = pc_transformer.transform(test_x_scaled)\n"
   ]
  },
  {
   "cell_type": "code",
   "execution_count": 67,
   "metadata": {},
   "outputs": [
    {
     "name": "stdout",
     "output_type": "stream",
     "text": [
      "0.74\n",
      "             precision    recall  f1-score   support\n",
      "\n",
      "          1       0.77      0.91      0.84       219\n",
      "          2       0.54      0.27      0.36        81\n",
      "\n",
      "avg / total       0.71      0.74      0.71       300\n",
      "\n"
     ]
    }
   ],
   "source": [
    "m2.fit(pcs_train, train_y)\n",
    "test_pred2 = m2.predict(pcs_test)\n",
    "\n",
    "print(accuracy_score(test_pred2, test_y))\n",
    "print(classification_report(test_y, test_pred2))"
   ]
  },
  {
   "cell_type": "code",
   "execution_count": 79,
   "metadata": {},
   "outputs": [
    {
     "data": {
      "text/plain": [
       "<matplotlib.axes._subplots.AxesSubplot at 0x1baeab625f8>"
      ]
     },
     "execution_count": 79,
     "metadata": {},
     "output_type": "execute_result"
    },
    {
     "data": {
      "image/png": "[encoded data removed]",
      "text/plain": [
       "<Figure size 432x288 with 1 Axes>"
      ]
     },
     "metadata": {},
     "output_type": "display_data"
    }
   ],
   "source": [
    "m3 = RandomForestClassifier(random_state=100)\n",
    "\n",
    "cols= ['pc%d' % i for i in range(1, pcs_train.shape[1]+1)]\n",
    "df_pcs = pd.DataFrame(pcs_train, columns=cols)\n",
    "df_pcs_train = pd.DataFrame(pcs_train, columns=cols)\n",
    "df_pcs_test = pd.DataFrame(pcs_test, columns=cols)\n",
    "df_pcs.var().plot.line()\n"
   ]
  },
  {
   "cell_type": "code",
   "execution_count": 69,
   "metadata": {},
   "outputs": [
    {
     "data": {
      "text/plain": [
       "'PC2'"
      ]
     },
     "execution_count": 69,
     "metadata": {},
     "output_type": "execute_result"
    }
   ],
   "source": [
    "'PC%d' % 2"
   ]
  },
  {
   "cell_type": "code",
   "execution_count": 70,
   "metadata": {},
   "outputs": [
    {
     "data": {
      "text/plain": [
       "[<matplotlib.lines.Line2D at 0x1baeac26080>]"
      ]
     },
     "execution_count": 70,
     "metadata": {},
     "output_type": "execute_result"
    },
    {
     "data": {
      "image/png": "[encoded data removed]",
      "text/plain": [
       "<Figure size 432x288 with 1 Axes>"
      ]
     },
     "metadata": {},
     "output_type": "display_data"
    }
   ],
   "source": [
    "evalues, evectors = np.linalg.eig(pd.DataFrame(train_x_scaled).corr())\n",
    "plt.plot(sorted(evalues)[::-1])"
   ]
  },
  {
   "cell_type": "code",
   "execution_count": 73,
   "metadata": {
    "collapsed": true
   },
   "outputs": [
    {
     "data": {
      "text/plain": [
       "[4.1310243232251835,\n",
       " 2.954531168406262,\n",
       " 2.810529720163605,\n",
       " 2.616428119683698,\n",
       " 2.1916589702682914,\n",
       " 2.0939554598473316,\n",
       " 2.0129819717849324,\n",
       " 1.9529853373088992,\n",
       " 1.9262192431905045,\n",
       " 1.785203040509816,\n",
       " 1.7234934764902998,\n",
       " 1.6097411206027,\n",
       " 1.5344773736806672,\n",
       " 1.5008993411398153,\n",
       " 1.4148508389450876,\n",
       " 1.405800935270482,\n",
       " 1.3082366173437185,\n",
       " 1.2613363693993835,\n",
       " 1.2387851318071803,\n",
       " 1.196079729059365,\n",
       " 1.167055145751653,\n",
       " 1.1592928822283415,\n",
       " 1.1059680155369094,\n",
       " 1.085757841973147,\n",
       " 1.070337066482783,\n",
       " 1.0493088238061046,\n",
       " 1.0324589238665318,\n",
       " 1.0059217796762416,\n",
       " 1.0007029043103293,\n",
       " 0.9363151808763842,\n",
       " 0.9332522706448022,\n",
       " 0.9005704936421733,\n",
       " 0.8620312846867656,\n",
       " 0.8403842770976109,\n",
       " 0.7970364591522361,\n",
       " 0.7750114199938297,\n",
       " 0.7605174461735694,\n",
       " 0.7347685751892278,\n",
       " 0.7204135284520727,\n",
       " 0.6607112866629246,\n",
       " 0.6570921780214687,\n",
       " 0.6057939827096445,\n",
       " 0.5852983417741124,\n",
       " 0.5482910687303972,\n",
       " 0.45539286544533114,\n",
       " 0.3973305857819738,\n",
       " 0.25904496335640986,\n",
       " 0.2247221198498567,\n",
       " 9.662062102588112e-15,\n",
       " 7.93111278239554e-15,\n",
       " 5.736192162081975e-15,\n",
       " 3.794405800191696e-16,\n",
       " -4.410298950696469e-31,\n",
       " -7.643432912148913e-18,\n",
       " -1.0954270560544476e-15,\n",
       " -1.9725809688366235e-15,\n",
       " -6.403154009814901e-15,\n",
       " -7.695149080767512e-15,\n",
       " -8.332912660965127e-15,\n",
       " -8.917776736768407e-15,\n",
       " -1.1218585310229455e-14]"
      ]
     },
     "execution_count": 73,
     "metadata": {},
     "output_type": "execute_result"
    }
   ],
   "source": [
    "sorted(evalues)[::-1]"
   ]
  },
  {
   "cell_type": "code",
   "execution_count": 74,
   "metadata": {},
   "outputs": [
    {
     "data": {
      "text/plain": [
       "[<matplotlib.lines.Line2D at 0x1baeac976d8>]"
      ]
     },
     "execution_count": 74,
     "metadata": {},
     "output_type": "execute_result"
    },
    {
     "data": {
      "image/png": "[encoded data removed]",
      "text/plain": [
       "<Figure size 432x288 with 1 Axes>"
      ]
     },
     "metadata": {},
     "output_type": "display_data"
    }
   ],
   "source": [
    "plt.plot(sorted(evalues/sum(evalues) * 100)[::-1])"
   ]
  },
  {
   "cell_type": "code",
   "execution_count": 77,
   "metadata": {},
   "outputs": [
    {
     "data": {
      "text/plain": [
       "41"
      ]
     },
     "execution_count": 77,
     "metadata": {},
     "output_type": "execute_result"
    }
   ],
   "source": [
    "cum_var = np.cumsum(sorted(evalues/sum(evalues)*100)[::-1])\n",
    "(cum_var<95).sum()"
   ]
  },
  {
   "cell_type": "code",
   "execution_count": 78,
   "metadata": {},
   "outputs": [
    {
     "data": {
      "text/plain": [
       "[<matplotlib.lines.Line2D at 0x1baeacf6630>]"
      ]
     },
     "execution_count": 78,
     "metadata": {},
     "output_type": "execute_result"
    },
    {
     "data": {
      "image/png": "[encoded data removed]",
      "text/plain": [
       "<Figure size 432x288 with 1 Axes>"
      ]
     },
     "metadata": {},
     "output_type": "display_data"
    }
   ],
   "source": [
    "plt.plot(cum_var)"
   ]
  },
  {
   "cell_type": "code",
   "execution_count": 82,
   "metadata": {},
   "outputs": [
    {
     "name": "stdout",
     "output_type": "stream",
     "text": [
      "0.7233333333333334\n",
      "             precision    recall  f1-score   support\n",
      "\n",
      "          1       0.76      0.90      0.83       219\n",
      "          2       0.48      0.25      0.33        81\n",
      "\n",
      "avg / total       0.69      0.72      0.69       300\n",
      "\n"
     ]
    }
   ],
   "source": [
    "m3 = RandomForestClassifier(random_state=100)\n",
    "m3.fit(df_pcs_train.iloc[:,:41],train_y)\n",
    "test_pred3 = m3.predict(df_pcs_test.iloc[:,:41])\n",
    "\n",
    "print(accuracy_score(test_y, test_pred3))\n",
    "print(classification_report(test_y, test_pred3))"
   ]
  },
  {
   "cell_type": "code",
   "execution_count": null,
   "metadata": {},
   "outputs": [],
   "source": []
  }
 ],
 "metadata": {
  "kernelspec": {
   "display_name": "Python 3",
   "language": "python",
   "name": "python3"
  },
  "language_info": {
   "codemirror_mode": {
    "name": "ipython",
    "version": 3
   },
   "file_extension": ".py",
   "mimetype": "text/x-python",
   "name": "python",
   "nbconvert_exporter": "python",
   "pygments_lexer": "ipython3",
   "version": "3.6.5"
  }
 },
 "nbformat": 4,
 "nbformat_minor": 2
}
