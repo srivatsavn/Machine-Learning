{
 "cells": [
  {
   "cell_type": "markdown",
   "metadata": {},
   "source": [
    "# Naive Bayes Classifier"
   ]
  },
  {
   "cell_type": "code",
   "execution_count": 1,
   "metadata": {},
   "outputs": [],
   "source": [
    "import pandas as pd\n",
    "import numpy as np\n",
    "from sklearn.tree import DecisionTreeClassifier\n",
    "from sklearn.ensemble import RandomForestClassifier\n",
    "from sklearn.ensemble import AdaBoostClassifier\n",
    "from sklearn.model_selection import train_test_split\n",
    "from sklearn.metrics import confusion_matrix\n",
    "from sklearn.preprocessing import StandardScaler"
   ]
  },
  {
   "cell_type": "code",
   "execution_count": 2,
   "metadata": {},
   "outputs": [],
   "source": [
    "hr_url = 'https://raw.githubusercontent.com/skathirmani/datasets/master/HR%20Analytics.csv'\n",
    "hr = pd.read_csv(hr_url)"
   ]
  },
  {
   "cell_type": "code",
   "execution_count": 5,
   "metadata": {},
   "outputs": [
    {
     "data": {
      "text/plain": [
       "<matplotlib.axes._subplots.AxesSubplot at 0x249244a6ac8>"
      ]
     },
     "execution_count": 5,
     "metadata": {},
     "output_type": "execute_result"
    },
    {
     "data": {
      "image/png": "[encoded data removed]",
      "text/plain": [
       "<Figure size 432x288 with 1 Axes>"
      ]
     },
     "metadata": {},
     "output_type": "display_data"
    }
   ],
   "source": [
    "%matplotlib inline\n",
    "hr['Age'].plot.hist()"
   ]
  },
  {
   "cell_type": "code",
   "execution_count": 6,
   "metadata": {},
   "outputs": [
    {
     "data": {
      "text/plain": [
       "array([1, 3, 5], dtype=int64)"
      ]
     },
     "execution_count": 6,
     "metadata": {},
     "output_type": "execute_result"
    }
   ],
   "source": [
    "bins = [0, 20, 40, 60, 80]\n",
    "np.digitize([18, 55, 82], bins = bins)"
   ]
  },
  {
   "cell_type": "code",
   "execution_count": 7,
   "metadata": {},
   "outputs": [
    {
     "data": {
      "text/html": [
       "<div>\n",
       "<style scoped>\n",
       "    .dataframe tbody tr th:only-of-type {\n",
       "        vertical-align: middle;\n",
       "    }\n",
       "\n",
       "    .dataframe tbody tr th {\n",
       "        vertical-align: top;\n",
       "    }\n",
       "\n",
       "    .dataframe thead th {\n",
       "        text-align: right;\n",
       "    }\n",
       "</style>\n",
       "<table border=\"1\" class=\"dataframe\">\n",
       "  <thead>\n",
       "    <tr style=\"text-align: right;\">\n",
       "      <th></th>\n",
       "      <th>Age</th>\n",
       "      <th>Age_bins</th>\n",
       "    </tr>\n",
       "  </thead>\n",
       "  <tbody>\n",
       "    <tr>\n",
       "      <th>0</th>\n",
       "      <td>41</td>\n",
       "      <td>3</td>\n",
       "    </tr>\n",
       "    <tr>\n",
       "      <th>1</th>\n",
       "      <td>49</td>\n",
       "      <td>3</td>\n",
       "    </tr>\n",
       "    <tr>\n",
       "      <th>2</th>\n",
       "      <td>37</td>\n",
       "      <td>2</td>\n",
       "    </tr>\n",
       "    <tr>\n",
       "      <th>3</th>\n",
       "      <td>33</td>\n",
       "      <td>2</td>\n",
       "    </tr>\n",
       "    <tr>\n",
       "      <th>4</th>\n",
       "      <td>27</td>\n",
       "      <td>2</td>\n",
       "    </tr>\n",
       "  </tbody>\n",
       "</table>\n",
       "</div>"
      ],
      "text/plain": [
       "   Age  Age_bins\n",
       "0   41         3\n",
       "1   49         3\n",
       "2   37         2\n",
       "3   33         2\n",
       "4   27         2"
      ]
     },
     "execution_count": 7,
     "metadata": {},
     "output_type": "execute_result"
    }
   ],
   "source": [
    "hr['Age_bins'] = np.digitize(hr['Age'], bins = bins)\n",
    "hr[['Age', 'Age_bins']].head()"
   ]
  },
  {
   "cell_type": "code",
   "execution_count": 13,
   "metadata": {},
   "outputs": [
    {
     "data": {
      "text/plain": [
       "{0: 'B0', 1: 'B1', 2: 'B2', 3: 'B3', 4: 'B4', 5: 'B5'}"
      ]
     },
     "execution_count": 13,
     "metadata": {},
     "output_type": "execute_result"
    }
   ],
   "source": [
    "## Dictionary comprehension to change age_bins to strings\n",
    "\n",
    "{x: 'B' + str(x) for x in range(6)}"
   ]
  },
  {
   "cell_type": "code",
   "execution_count": 14,
   "metadata": {},
   "outputs": [
    {
     "data": {
      "text/html": [
       "<div>\n",
       "<style scoped>\n",
       "    .dataframe tbody tr th:only-of-type {\n",
       "        vertical-align: middle;\n",
       "    }\n",
       "\n",
       "    .dataframe tbody tr th {\n",
       "        vertical-align: top;\n",
       "    }\n",
       "\n",
       "    .dataframe thead th {\n",
       "        text-align: right;\n",
       "    }\n",
       "</style>\n",
       "<table border=\"1\" class=\"dataframe\">\n",
       "  <thead>\n",
       "    <tr style=\"text-align: right;\">\n",
       "      <th></th>\n",
       "      <th>Age</th>\n",
       "      <th>Age_bins</th>\n",
       "    </tr>\n",
       "  </thead>\n",
       "  <tbody>\n",
       "    <tr>\n",
       "      <th>0</th>\n",
       "      <td>41</td>\n",
       "      <td>B3</td>\n",
       "    </tr>\n",
       "    <tr>\n",
       "      <th>1</th>\n",
       "      <td>49</td>\n",
       "      <td>B3</td>\n",
       "    </tr>\n",
       "    <tr>\n",
       "      <th>2</th>\n",
       "      <td>37</td>\n",
       "      <td>B2</td>\n",
       "    </tr>\n",
       "    <tr>\n",
       "      <th>3</th>\n",
       "      <td>33</td>\n",
       "      <td>B2</td>\n",
       "    </tr>\n",
       "    <tr>\n",
       "      <th>4</th>\n",
       "      <td>27</td>\n",
       "      <td>B2</td>\n",
       "    </tr>\n",
       "  </tbody>\n",
       "</table>\n",
       "</div>"
      ],
      "text/plain": [
       "   Age Age_bins\n",
       "0   41       B3\n",
       "1   49       B3\n",
       "2   37       B2\n",
       "3   33       B2\n",
       "4   27       B2"
      ]
     },
     "execution_count": 14,
     "metadata": {},
     "output_type": "execute_result"
    }
   ],
   "source": [
    "bin_labels = {x: 'B' + str(x) for x in range(6)}\n",
    "hr['Age_bins'] = hr['Age_bins'].replace(bin_labels)\n",
    "hr[['Age', 'Age_bins']].head()"
   ]
  },
  {
   "cell_type": "code",
   "execution_count": 18,
   "metadata": {},
   "outputs": [
    {
     "data": {
      "text/plain": [
       "0.00    18.0\n",
       "0.25    30.0\n",
       "0.50    36.0\n",
       "0.75    43.0\n",
       "1.00    60.0\n",
       "Name: Age, dtype: float64"
      ]
     },
     "execution_count": 18,
     "metadata": {},
     "output_type": "execute_result"
    }
   ],
   "source": [
    "## to find quartiles\n",
    "\n",
    "hr['Age'].quantile([0, 0.25, 0.5, 0.75, 1])"
   ]
  },
  {
   "cell_type": "code",
   "execution_count": 25,
   "metadata": {},
   "outputs": [
    {
     "data": {
      "text/html": [
       "<div>\n",
       "<style scoped>\n",
       "    .dataframe tbody tr th:only-of-type {\n",
       "        vertical-align: middle;\n",
       "    }\n",
       "\n",
       "    .dataframe tbody tr th {\n",
       "        vertical-align: top;\n",
       "    }\n",
       "\n",
       "    .dataframe thead th {\n",
       "        text-align: right;\n",
       "    }\n",
       "</style>\n",
       "<table border=\"1\" class=\"dataframe\">\n",
       "  <thead>\n",
       "    <tr style=\"text-align: right;\">\n",
       "      <th></th>\n",
       "      <th>Age</th>\n",
       "      <th>Age_bins</th>\n",
       "    </tr>\n",
       "  </thead>\n",
       "  <tbody>\n",
       "    <tr>\n",
       "      <th>0</th>\n",
       "      <td>41</td>\n",
       "      <td>B3</td>\n",
       "    </tr>\n",
       "    <tr>\n",
       "      <th>1</th>\n",
       "      <td>49</td>\n",
       "      <td>B4</td>\n",
       "    </tr>\n",
       "    <tr>\n",
       "      <th>2</th>\n",
       "      <td>37</td>\n",
       "      <td>B3</td>\n",
       "    </tr>\n",
       "    <tr>\n",
       "      <th>3</th>\n",
       "      <td>33</td>\n",
       "      <td>B2</td>\n",
       "    </tr>\n",
       "    <tr>\n",
       "      <th>4</th>\n",
       "      <td>27</td>\n",
       "      <td>B1</td>\n",
       "    </tr>\n",
       "  </tbody>\n",
       "</table>\n",
       "</div>"
      ],
      "text/plain": [
       "   Age Age_bins\n",
       "0   41       B3\n",
       "1   49       B4\n",
       "2   37       B3\n",
       "3   33       B2\n",
       "4   27       B1"
      ]
     },
     "execution_count": 25,
     "metadata": {},
     "output_type": "execute_result"
    }
   ],
   "source": [
    "## to get bins and binning based on quartiles\n",
    "\n",
    "bins = hr['Age'].quantile([0, 0.25, 0.5, 0.75, 1]).values\n",
    "\n",
    "bin_labels = {x: 'B' + str(x) for x in range(len(bins))}\n",
    "hr['Age_bins'] = np.digitize(hr['Age'], bins = bins)\n",
    "hr['Age_bins'] = hr['Age_bins'].replace(bin_labels)\n",
    "hr[['Age', 'Age_bins']].head()\n",
    "#hr['Age_bins'].value_counts()"
   ]
  },
  {
   "cell_type": "code",
   "execution_count": 24,
   "metadata": {},
   "outputs": [
    {
     "data": {
      "text/plain": [
       "Index(['Age', 'DailyRate', 'DistanceFromHome', 'Education', 'EmployeeCount',\n",
       "       'EmployeeNumber', 'EnvironmentSatisfaction', 'HourlyRate',\n",
       "       'JobInvolvement', 'JobLevel', 'JobSatisfaction', 'MonthlyIncome',\n",
       "       'MonthlyRate', 'NumCompaniesWorked', 'PercentSalaryHike',\n",
       "       'PerformanceRating', 'RelationshipSatisfaction', 'StandardHours',\n",
       "       'StockOptionLevel', 'TotalWorkingYears', 'TrainingTimesLastYear',\n",
       "       'WorkLifeBalance', 'YearsAtCompany', 'YearsInCurrentRole',\n",
       "       'YearsSinceLastPromotion', 'YearsWithCurrManager'],\n",
       "      dtype='object')"
      ]
     },
     "execution_count": 24,
     "metadata": {},
     "output_type": "execute_result"
    }
   ],
   "source": [
    "hr._get_numeric_data().columns.drop('Attrition')"
   ]
  },
  {
   "cell_type": "code",
   "execution_count": 30,
   "metadata": {},
   "outputs": [
    {
     "data": {
      "text/plain": [
       "0    B3\n",
       "1    B4\n",
       "2    B3\n",
       "3    B2\n",
       "4    B1\n",
       "dtype: object"
      ]
     },
     "execution_count": 30,
     "metadata": {},
     "output_type": "execute_result"
    }
   ],
   "source": [
    "def num2cat(num_series):\n",
    "    bins = num_series.quantile([0, 0.25, 0.5, 0.75, 1]).values\n",
    "    bin_labels = {x: 'B' + str(x) for x in range(len(bins)+1)}\n",
    "    cat_array = np.digitize(num_series, bins = bins)\n",
    "    cat_series = pd.Series(cat_array)\n",
    "    return (cat_series.replace(bin_labels))\n",
    "num2cat(hr['Age']).head()"
   ]
  },
  {
   "cell_type": "code",
   "execution_count": 31,
   "metadata": {},
   "outputs": [
    {
     "data": {
      "text/html": [
       "<div>\n",
       "<style scoped>\n",
       "    .dataframe tbody tr th:only-of-type {\n",
       "        vertical-align: middle;\n",
       "    }\n",
       "\n",
       "    .dataframe tbody tr th {\n",
       "        vertical-align: top;\n",
       "    }\n",
       "\n",
       "    .dataframe thead th {\n",
       "        text-align: right;\n",
       "    }\n",
       "</style>\n",
       "<table border=\"1\" class=\"dataframe\">\n",
       "  <thead>\n",
       "    <tr style=\"text-align: right;\">\n",
       "      <th></th>\n",
       "      <th>Age</th>\n",
       "      <th>DailyRate</th>\n",
       "      <th>DistanceFromHome</th>\n",
       "      <th>Education</th>\n",
       "      <th>EmployeeCount</th>\n",
       "      <th>EmployeeNumber</th>\n",
       "      <th>EnvironmentSatisfaction</th>\n",
       "      <th>HourlyRate</th>\n",
       "      <th>JobInvolvement</th>\n",
       "      <th>JobLevel</th>\n",
       "      <th>...</th>\n",
       "      <th>RelationshipSatisfaction</th>\n",
       "      <th>StandardHours</th>\n",
       "      <th>StockOptionLevel</th>\n",
       "      <th>TotalWorkingYears</th>\n",
       "      <th>TrainingTimesLastYear</th>\n",
       "      <th>WorkLifeBalance</th>\n",
       "      <th>YearsAtCompany</th>\n",
       "      <th>YearsInCurrentRole</th>\n",
       "      <th>YearsSinceLastPromotion</th>\n",
       "      <th>YearsWithCurrManager</th>\n",
       "    </tr>\n",
       "  </thead>\n",
       "  <tbody>\n",
       "    <tr>\n",
       "      <th>0</th>\n",
       "      <td>B3</td>\n",
       "      <td>B3</td>\n",
       "      <td>B1</td>\n",
       "      <td>B2</td>\n",
       "      <td>B5</td>\n",
       "      <td>B1</td>\n",
       "      <td>B2</td>\n",
       "      <td>B4</td>\n",
       "      <td>B4</td>\n",
       "      <td>B3</td>\n",
       "      <td>...</td>\n",
       "      <td>B1</td>\n",
       "      <td>B5</td>\n",
       "      <td>B2</td>\n",
       "      <td>B2</td>\n",
       "      <td>B1</td>\n",
       "      <td>B1</td>\n",
       "      <td>B3</td>\n",
       "      <td>B3</td>\n",
       "      <td>B2</td>\n",
       "      <td>B3</td>\n",
       "    </tr>\n",
       "    <tr>\n",
       "      <th>1</th>\n",
       "      <td>B4</td>\n",
       "      <td>B1</td>\n",
       "      <td>B3</td>\n",
       "      <td>B1</td>\n",
       "      <td>B5</td>\n",
       "      <td>B1</td>\n",
       "      <td>B3</td>\n",
       "      <td>B2</td>\n",
       "      <td>B2</td>\n",
       "      <td>B3</td>\n",
       "      <td>...</td>\n",
       "      <td>B5</td>\n",
       "      <td>B5</td>\n",
       "      <td>B4</td>\n",
       "      <td>B3</td>\n",
       "      <td>B4</td>\n",
       "      <td>B4</td>\n",
       "      <td>B4</td>\n",
       "      <td>B4</td>\n",
       "      <td>B3</td>\n",
       "      <td>B4</td>\n",
       "    </tr>\n",
       "    <tr>\n",
       "      <th>2</th>\n",
       "      <td>B3</td>\n",
       "      <td>B4</td>\n",
       "      <td>B2</td>\n",
       "      <td>B2</td>\n",
       "      <td>B5</td>\n",
       "      <td>B1</td>\n",
       "      <td>B5</td>\n",
       "      <td>B4</td>\n",
       "      <td>B2</td>\n",
       "      <td>B2</td>\n",
       "      <td>...</td>\n",
       "      <td>B2</td>\n",
       "      <td>B5</td>\n",
       "      <td>B2</td>\n",
       "      <td>B2</td>\n",
       "      <td>B4</td>\n",
       "      <td>B4</td>\n",
       "      <td>B1</td>\n",
       "      <td>B1</td>\n",
       "      <td>B2</td>\n",
       "      <td>B1</td>\n",
       "    </tr>\n",
       "    <tr>\n",
       "      <th>3</th>\n",
       "      <td>B2</td>\n",
       "      <td>B4</td>\n",
       "      <td>B2</td>\n",
       "      <td>B4</td>\n",
       "      <td>B5</td>\n",
       "      <td>B1</td>\n",
       "      <td>B5</td>\n",
       "      <td>B2</td>\n",
       "      <td>B4</td>\n",
       "      <td>B2</td>\n",
       "      <td>...</td>\n",
       "      <td>B3</td>\n",
       "      <td>B5</td>\n",
       "      <td>B2</td>\n",
       "      <td>B2</td>\n",
       "      <td>B4</td>\n",
       "      <td>B4</td>\n",
       "      <td>B3</td>\n",
       "      <td>B4</td>\n",
       "      <td>B4</td>\n",
       "      <td>B1</td>\n",
       "    </tr>\n",
       "    <tr>\n",
       "      <th>4</th>\n",
       "      <td>B1</td>\n",
       "      <td>B2</td>\n",
       "      <td>B2</td>\n",
       "      <td>B1</td>\n",
       "      <td>B5</td>\n",
       "      <td>B1</td>\n",
       "      <td>B1</td>\n",
       "      <td>B1</td>\n",
       "      <td>B4</td>\n",
       "      <td>B2</td>\n",
       "      <td>...</td>\n",
       "      <td>B5</td>\n",
       "      <td>B5</td>\n",
       "      <td>B4</td>\n",
       "      <td>B2</td>\n",
       "      <td>B4</td>\n",
       "      <td>B4</td>\n",
       "      <td>B1</td>\n",
       "      <td>B2</td>\n",
       "      <td>B3</td>\n",
       "      <td>B2</td>\n",
       "    </tr>\n",
       "  </tbody>\n",
       "</table>\n",
       "<p>5 rows × 26 columns</p>\n",
       "</div>"
      ],
      "text/plain": [
       "  Age DailyRate DistanceFromHome Education EmployeeCount EmployeeNumber  \\\n",
       "0  B3        B3               B1        B2            B5             B1   \n",
       "1  B4        B1               B3        B1            B5             B1   \n",
       "2  B3        B4               B2        B2            B5             B1   \n",
       "3  B2        B4               B2        B4            B5             B1   \n",
       "4  B1        B2               B2        B1            B5             B1   \n",
       "\n",
       "  EnvironmentSatisfaction HourlyRate JobInvolvement JobLevel  \\\n",
       "0                      B2         B4             B4       B3   \n",
       "1                      B3         B2             B2       B3   \n",
       "2                      B5         B4             B2       B2   \n",
       "3                      B5         B2             B4       B2   \n",
       "4                      B1         B1             B4       B2   \n",
       "\n",
       "          ...          RelationshipSatisfaction StandardHours  \\\n",
       "0         ...                                B1            B5   \n",
       "1         ...                                B5            B5   \n",
       "2         ...                                B2            B5   \n",
       "3         ...                                B3            B5   \n",
       "4         ...                                B5            B5   \n",
       "\n",
       "  StockOptionLevel TotalWorkingYears TrainingTimesLastYear WorkLifeBalance  \\\n",
       "0               B2                B2                    B1              B1   \n",
       "1               B4                B3                    B4              B4   \n",
       "2               B2                B2                    B4              B4   \n",
       "3               B2                B2                    B4              B4   \n",
       "4               B4                B2                    B4              B4   \n",
       "\n",
       "  YearsAtCompany YearsInCurrentRole YearsSinceLastPromotion  \\\n",
       "0             B3                 B3                      B2   \n",
       "1             B4                 B4                      B3   \n",
       "2             B1                 B1                      B2   \n",
       "3             B3                 B4                      B4   \n",
       "4             B1                 B2                      B3   \n",
       "\n",
       "  YearsWithCurrManager  \n",
       "0                   B3  \n",
       "1                   B4  \n",
       "2                   B1  \n",
       "3                   B1  \n",
       "4                   B2  \n",
       "\n",
       "[5 rows x 26 columns]"
      ]
     },
     "execution_count": 31,
     "metadata": {},
     "output_type": "execute_result"
    }
   ],
   "source": [
    "num_cols = hr._get_numeric_data().columns.drop('Attrition')\n",
    "\n",
    "df_cat = pd.DataFrame(columns = num_cols)\n",
    "\n",
    "for col in num_cols:\n",
    "    df_cat[col] = num2cat(hr[col])\n",
    "df_cat.head()"
   ]
  },
  {
   "cell_type": "code",
   "execution_count": 33,
   "metadata": {},
   "outputs": [
    {
     "data": {
      "text/plain": [
       "Index(['Attrition', 'BusinessTravel', 'Department', 'EducationField', 'Gender',\n",
       "       'JobRole', 'MaritalStatus', 'Over18', 'OverTime', 'Age_bins'],\n",
       "      dtype='object')"
      ]
     },
     "execution_count": 33,
     "metadata": {},
     "output_type": "execute_result"
    }
   ],
   "source": [
    "cat_cols = hr.columns.drop(num_cols)\n",
    "cat_cols"
   ]
  },
  {
   "cell_type": "code",
   "execution_count": 35,
   "metadata": {},
   "outputs": [
    {
     "data": {
      "text/html": [
       "<div>\n",
       "<style scoped>\n",
       "    .dataframe tbody tr th:only-of-type {\n",
       "        vertical-align: middle;\n",
       "    }\n",
       "\n",
       "    .dataframe tbody tr th {\n",
       "        vertical-align: top;\n",
       "    }\n",
       "\n",
       "    .dataframe thead th {\n",
       "        text-align: right;\n",
       "    }\n",
       "</style>\n",
       "<table border=\"1\" class=\"dataframe\">\n",
       "  <thead>\n",
       "    <tr style=\"text-align: right;\">\n",
       "      <th></th>\n",
       "      <th>Age</th>\n",
       "      <th>DailyRate</th>\n",
       "      <th>DistanceFromHome</th>\n",
       "      <th>Education</th>\n",
       "      <th>EmployeeCount</th>\n",
       "      <th>EmployeeNumber</th>\n",
       "      <th>EnvironmentSatisfaction</th>\n",
       "      <th>HourlyRate</th>\n",
       "      <th>JobInvolvement</th>\n",
       "      <th>JobLevel</th>\n",
       "      <th>...</th>\n",
       "      <th>Attrition</th>\n",
       "      <th>BusinessTravel</th>\n",
       "      <th>Department</th>\n",
       "      <th>EducationField</th>\n",
       "      <th>Gender</th>\n",
       "      <th>JobRole</th>\n",
       "      <th>MaritalStatus</th>\n",
       "      <th>Over18</th>\n",
       "      <th>OverTime</th>\n",
       "      <th>Age_bins</th>\n",
       "    </tr>\n",
       "  </thead>\n",
       "  <tbody>\n",
       "    <tr>\n",
       "      <th>0</th>\n",
       "      <td>B3</td>\n",
       "      <td>B3</td>\n",
       "      <td>B1</td>\n",
       "      <td>B2</td>\n",
       "      <td>B5</td>\n",
       "      <td>B1</td>\n",
       "      <td>B2</td>\n",
       "      <td>B4</td>\n",
       "      <td>B4</td>\n",
       "      <td>B3</td>\n",
       "      <td>...</td>\n",
       "      <td>1</td>\n",
       "      <td>Travel_Rarely</td>\n",
       "      <td>Sales</td>\n",
       "      <td>Life Sciences</td>\n",
       "      <td>Female</td>\n",
       "      <td>Sales Executive</td>\n",
       "      <td>Single</td>\n",
       "      <td>Y</td>\n",
       "      <td>Yes</td>\n",
       "      <td>B3</td>\n",
       "    </tr>\n",
       "    <tr>\n",
       "      <th>1</th>\n",
       "      <td>B4</td>\n",
       "      <td>B1</td>\n",
       "      <td>B3</td>\n",
       "      <td>B1</td>\n",
       "      <td>B5</td>\n",
       "      <td>B1</td>\n",
       "      <td>B3</td>\n",
       "      <td>B2</td>\n",
       "      <td>B2</td>\n",
       "      <td>B3</td>\n",
       "      <td>...</td>\n",
       "      <td>0</td>\n",
       "      <td>Travel_Frequently</td>\n",
       "      <td>Research &amp; Development</td>\n",
       "      <td>Life Sciences</td>\n",
       "      <td>Male</td>\n",
       "      <td>Research Scientist</td>\n",
       "      <td>Married</td>\n",
       "      <td>Y</td>\n",
       "      <td>No</td>\n",
       "      <td>B4</td>\n",
       "    </tr>\n",
       "    <tr>\n",
       "      <th>2</th>\n",
       "      <td>B3</td>\n",
       "      <td>B4</td>\n",
       "      <td>B2</td>\n",
       "      <td>B2</td>\n",
       "      <td>B5</td>\n",
       "      <td>B1</td>\n",
       "      <td>B5</td>\n",
       "      <td>B4</td>\n",
       "      <td>B2</td>\n",
       "      <td>B2</td>\n",
       "      <td>...</td>\n",
       "      <td>1</td>\n",
       "      <td>Travel_Rarely</td>\n",
       "      <td>Research &amp; Development</td>\n",
       "      <td>Other</td>\n",
       "      <td>Male</td>\n",
       "      <td>Laboratory Technician</td>\n",
       "      <td>Single</td>\n",
       "      <td>Y</td>\n",
       "      <td>Yes</td>\n",
       "      <td>B3</td>\n",
       "    </tr>\n",
       "    <tr>\n",
       "      <th>3</th>\n",
       "      <td>B2</td>\n",
       "      <td>B4</td>\n",
       "      <td>B2</td>\n",
       "      <td>B4</td>\n",
       "      <td>B5</td>\n",
       "      <td>B1</td>\n",
       "      <td>B5</td>\n",
       "      <td>B2</td>\n",
       "      <td>B4</td>\n",
       "      <td>B2</td>\n",
       "      <td>...</td>\n",
       "      <td>0</td>\n",
       "      <td>Travel_Frequently</td>\n",
       "      <td>Research &amp; Development</td>\n",
       "      <td>Life Sciences</td>\n",
       "      <td>Female</td>\n",
       "      <td>Research Scientist</td>\n",
       "      <td>Married</td>\n",
       "      <td>Y</td>\n",
       "      <td>Yes</td>\n",
       "      <td>B2</td>\n",
       "    </tr>\n",
       "    <tr>\n",
       "      <th>4</th>\n",
       "      <td>B1</td>\n",
       "      <td>B2</td>\n",
       "      <td>B2</td>\n",
       "      <td>B1</td>\n",
       "      <td>B5</td>\n",
       "      <td>B1</td>\n",
       "      <td>B1</td>\n",
       "      <td>B1</td>\n",
       "      <td>B4</td>\n",
       "      <td>B2</td>\n",
       "      <td>...</td>\n",
       "      <td>0</td>\n",
       "      <td>Travel_Rarely</td>\n",
       "      <td>Research &amp; Development</td>\n",
       "      <td>Medical</td>\n",
       "      <td>Male</td>\n",
       "      <td>Laboratory Technician</td>\n",
       "      <td>Married</td>\n",
       "      <td>Y</td>\n",
       "      <td>No</td>\n",
       "      <td>B1</td>\n",
       "    </tr>\n",
       "  </tbody>\n",
       "</table>\n",
       "<p>5 rows × 36 columns</p>\n",
       "</div>"
      ],
      "text/plain": [
       "  Age DailyRate DistanceFromHome Education EmployeeCount EmployeeNumber  \\\n",
       "0  B3        B3               B1        B2            B5             B1   \n",
       "1  B4        B1               B3        B1            B5             B1   \n",
       "2  B3        B4               B2        B2            B5             B1   \n",
       "3  B2        B4               B2        B4            B5             B1   \n",
       "4  B1        B2               B2        B1            B5             B1   \n",
       "\n",
       "  EnvironmentSatisfaction HourlyRate JobInvolvement JobLevel   ...     \\\n",
       "0                      B2         B4             B4       B3   ...      \n",
       "1                      B3         B2             B2       B3   ...      \n",
       "2                      B5         B4             B2       B2   ...      \n",
       "3                      B5         B2             B4       B2   ...      \n",
       "4                      B1         B1             B4       B2   ...      \n",
       "\n",
       "  Attrition     BusinessTravel              Department EducationField  Gender  \\\n",
       "0         1      Travel_Rarely                   Sales  Life Sciences  Female   \n",
       "1         0  Travel_Frequently  Research & Development  Life Sciences    Male   \n",
       "2         1      Travel_Rarely  Research & Development          Other    Male   \n",
       "3         0  Travel_Frequently  Research & Development  Life Sciences  Female   \n",
       "4         0      Travel_Rarely  Research & Development        Medical    Male   \n",
       "\n",
       "                 JobRole MaritalStatus Over18 OverTime Age_bins  \n",
       "0        Sales Executive        Single      Y      Yes       B3  \n",
       "1     Research Scientist       Married      Y       No       B4  \n",
       "2  Laboratory Technician        Single      Y      Yes       B3  \n",
       "3     Research Scientist       Married      Y      Yes       B2  \n",
       "4  Laboratory Technician       Married      Y       No       B1  \n",
       "\n",
       "[5 rows x 36 columns]"
      ]
     },
     "execution_count": 35,
     "metadata": {},
     "output_type": "execute_result"
    }
   ],
   "source": [
    "df_final = pd.concat([df_cat, hr[cat_cols]], axis = 1)\n",
    "df_final.head()"
   ]
  },
  {
   "cell_type": "code",
   "execution_count": 37,
   "metadata": {},
   "outputs": [],
   "source": [
    "train, test = train_test_split(df_final, test_size = 0.3, random_state = 100)\n",
    "train_y = train['Attrition']\n",
    "test_y = test['Attrition']\n",
    "train_x = train.drop('Attrition', axis = 1)\n",
    "test_x = test.drop('Attrition', axis = 1)\n"
   ]
  },
  {
   "cell_type": "code",
   "execution_count": 61,
   "metadata": {},
   "outputs": [
    {
     "data": {
      "text/plain": [
       "Attrition    505\n",
       "Gender       505\n",
       "dtype: int64"
      ]
     },
     "execution_count": 61,
     "metadata": {},
     "output_type": "execute_result"
    }
   ],
   "source": [
    "a = train[['Attrition', 'Gender']].query(\"Gender == 'Male'\")\n",
    "a.query(\"Attrition == 0\").count()"
   ]
  },
  {
   "cell_type": "code",
   "execution_count": 80,
   "metadata": {},
   "outputs": [
    {
     "data": {
      "text/html": [
       "<div>\n",
       "<style scoped>\n",
       "    .dataframe tbody tr th:only-of-type {\n",
       "        vertical-align: middle;\n",
       "    }\n",
       "\n",
       "    .dataframe tbody tr th {\n",
       "        vertical-align: top;\n",
       "    }\n",
       "\n",
       "    .dataframe thead th {\n",
       "        text-align: right;\n",
       "    }\n",
       "</style>\n",
       "<table border=\"1\" class=\"dataframe\">\n",
       "  <thead>\n",
       "    <tr style=\"text-align: right;\">\n",
       "      <th>MaritalStatus</th>\n",
       "      <th>Divorced</th>\n",
       "      <th>Married</th>\n",
       "      <th>Single</th>\n",
       "    </tr>\n",
       "    <tr>\n",
       "      <th>Attrition</th>\n",
       "      <th></th>\n",
       "      <th></th>\n",
       "      <th></th>\n",
       "    </tr>\n",
       "  </thead>\n",
       "  <tbody>\n",
       "    <tr>\n",
       "      <th>0</th>\n",
       "      <td>210</td>\n",
       "      <td>408</td>\n",
       "      <td>244</td>\n",
       "    </tr>\n",
       "    <tr>\n",
       "      <th>1</th>\n",
       "      <td>25</td>\n",
       "      <td>57</td>\n",
       "      <td>85</td>\n",
       "    </tr>\n",
       "  </tbody>\n",
       "</table>\n",
       "</div>"
      ],
      "text/plain": [
       "MaritalStatus  Divorced  Married  Single\n",
       "Attrition                               \n",
       "0                   210      408     244\n",
       "1                    25       57      85"
      ]
     },
     "execution_count": 80,
     "metadata": {},
     "output_type": "execute_result"
    }
   ],
   "source": [
    "pd.pivot_table(data = train, index='Attrition', columns='MaritalStatus', values='Gender', aggfunc=np.count_nonzero)"
   ]
  },
  {
   "cell_type": "code",
   "execution_count": 71,
   "metadata": {},
   "outputs": [
    {
     "data": {
      "text/plain": [
       "Attrition    862\n",
       "Gender       862\n",
       "dtype: int64"
      ]
     },
     "execution_count": 71,
     "metadata": {},
     "output_type": "execute_result"
    }
   ],
   "source": [
    "train[['Attrition', 'Gender']].query(\"Attrition == 0\").count()"
   ]
  },
  {
   "cell_type": "code",
   "execution_count": 77,
   "metadata": {},
   "outputs": [
    {
     "data": {
      "text/html": [
       "<div>\n",
       "<style scoped>\n",
       "    .dataframe tbody tr th:only-of-type {\n",
       "        vertical-align: middle;\n",
       "    }\n",
       "\n",
       "    .dataframe tbody tr th {\n",
       "        vertical-align: top;\n",
       "    }\n",
       "\n",
       "    .dataframe thead th {\n",
       "        text-align: right;\n",
       "    }\n",
       "</style>\n",
       "<table border=\"1\" class=\"dataframe\">\n",
       "  <thead>\n",
       "    <tr style=\"text-align: right;\">\n",
       "      <th>MaritalStatus</th>\n",
       "      <th>Divorced</th>\n",
       "      <th>Married</th>\n",
       "      <th>Single</th>\n",
       "    </tr>\n",
       "    <tr>\n",
       "      <th>Gender</th>\n",
       "      <th></th>\n",
       "      <th></th>\n",
       "      <th></th>\n",
       "    </tr>\n",
       "  </thead>\n",
       "  <tbody>\n",
       "    <tr>\n",
       "      <th>Female</th>\n",
       "      <td>88</td>\n",
       "      <td>192</td>\n",
       "      <td>139</td>\n",
       "    </tr>\n",
       "    <tr>\n",
       "      <th>Male</th>\n",
       "      <td>147</td>\n",
       "      <td>273</td>\n",
       "      <td>190</td>\n",
       "    </tr>\n",
       "  </tbody>\n",
       "</table>\n",
       "</div>"
      ],
      "text/plain": [
       "MaritalStatus  Divorced  Married  Single\n",
       "Gender                                  \n",
       "Female               88      192     139\n",
       "Male                147      273     190"
      ]
     },
     "execution_count": 77,
     "metadata": {},
     "output_type": "execute_result"
    }
   ],
   "source": [
    "pd.pivot_table(data = train, index='Gender', columns='MaritalStatus', values='Attrition', aggfunc=len)"
   ]
  },
  {
   "cell_type": "code",
   "execution_count": 83,
   "metadata": {},
   "outputs": [
    {
     "data": {
      "text/html": [
       "<div>\n",
       "<style scoped>\n",
       "    .dataframe tbody tr th:only-of-type {\n",
       "        vertical-align: middle;\n",
       "    }\n",
       "\n",
       "    .dataframe tbody tr th {\n",
       "        vertical-align: top;\n",
       "    }\n",
       "\n",
       "    .dataframe thead tr th {\n",
       "        text-align: left;\n",
       "    }\n",
       "\n",
       "    .dataframe thead tr:last-of-type th {\n",
       "        text-align: right;\n",
       "    }\n",
       "</style>\n",
       "<table border=\"1\" class=\"dataframe\">\n",
       "  <thead>\n",
       "    <tr>\n",
       "      <th></th>\n",
       "      <th colspan=\"2\" halign=\"left\">Age</th>\n",
       "      <th colspan=\"2\" halign=\"left\">Age_bins</th>\n",
       "      <th colspan=\"2\" halign=\"left\">BusinessTravel</th>\n",
       "      <th colspan=\"2\" halign=\"left\">DailyRate</th>\n",
       "      <th colspan=\"2\" halign=\"left\">Department</th>\n",
       "      <th>...</th>\n",
       "      <th colspan=\"2\" halign=\"left\">WorkLifeBalance</th>\n",
       "      <th colspan=\"2\" halign=\"left\">YearsAtCompany</th>\n",
       "      <th colspan=\"2\" halign=\"left\">YearsInCurrentRole</th>\n",
       "      <th colspan=\"2\" halign=\"left\">YearsSinceLastPromotion</th>\n",
       "      <th colspan=\"2\" halign=\"left\">YearsWithCurrManager</th>\n",
       "    </tr>\n",
       "    <tr>\n",
       "      <th>Gender</th>\n",
       "      <th>Female</th>\n",
       "      <th>Male</th>\n",
       "      <th>Female</th>\n",
       "      <th>Male</th>\n",
       "      <th>Female</th>\n",
       "      <th>Male</th>\n",
       "      <th>Female</th>\n",
       "      <th>Male</th>\n",
       "      <th>Female</th>\n",
       "      <th>Male</th>\n",
       "      <th>...</th>\n",
       "      <th>Female</th>\n",
       "      <th>Male</th>\n",
       "      <th>Female</th>\n",
       "      <th>Male</th>\n",
       "      <th>Female</th>\n",
       "      <th>Male</th>\n",
       "      <th>Female</th>\n",
       "      <th>Male</th>\n",
       "      <th>Female</th>\n",
       "      <th>Male</th>\n",
       "    </tr>\n",
       "    <tr>\n",
       "      <th>Attrition</th>\n",
       "      <th></th>\n",
       "      <th></th>\n",
       "      <th></th>\n",
       "      <th></th>\n",
       "      <th></th>\n",
       "      <th></th>\n",
       "      <th></th>\n",
       "      <th></th>\n",
       "      <th></th>\n",
       "      <th></th>\n",
       "      <th></th>\n",
       "      <th></th>\n",
       "      <th></th>\n",
       "      <th></th>\n",
       "      <th></th>\n",
       "      <th></th>\n",
       "      <th></th>\n",
       "      <th></th>\n",
       "      <th></th>\n",
       "      <th></th>\n",
       "      <th></th>\n",
       "    </tr>\n",
       "  </thead>\n",
       "  <tbody>\n",
       "    <tr>\n",
       "      <th>0</th>\n",
       "      <td>357</td>\n",
       "      <td>505</td>\n",
       "      <td>357</td>\n",
       "      <td>505</td>\n",
       "      <td>357</td>\n",
       "      <td>505</td>\n",
       "      <td>357</td>\n",
       "      <td>505</td>\n",
       "      <td>357</td>\n",
       "      <td>505</td>\n",
       "      <td>...</td>\n",
       "      <td>357</td>\n",
       "      <td>505</td>\n",
       "      <td>357</td>\n",
       "      <td>505</td>\n",
       "      <td>357</td>\n",
       "      <td>505</td>\n",
       "      <td>357</td>\n",
       "      <td>505</td>\n",
       "      <td>357</td>\n",
       "      <td>505</td>\n",
       "    </tr>\n",
       "    <tr>\n",
       "      <th>1</th>\n",
       "      <td>62</td>\n",
       "      <td>105</td>\n",
       "      <td>62</td>\n",
       "      <td>105</td>\n",
       "      <td>62</td>\n",
       "      <td>105</td>\n",
       "      <td>62</td>\n",
       "      <td>105</td>\n",
       "      <td>62</td>\n",
       "      <td>105</td>\n",
       "      <td>...</td>\n",
       "      <td>62</td>\n",
       "      <td>105</td>\n",
       "      <td>62</td>\n",
       "      <td>105</td>\n",
       "      <td>62</td>\n",
       "      <td>105</td>\n",
       "      <td>62</td>\n",
       "      <td>105</td>\n",
       "      <td>62</td>\n",
       "      <td>105</td>\n",
       "    </tr>\n",
       "  </tbody>\n",
       "</table>\n",
       "<p>2 rows × 68 columns</p>\n",
       "</div>"
      ],
      "text/plain": [
       "             Age      Age_bins      BusinessTravel      DailyRate       \\\n",
       "Gender    Female Male   Female Male         Female Male    Female Male   \n",
       "Attrition                                                                \n",
       "0            357  505      357  505            357  505       357  505   \n",
       "1             62  105       62  105             62  105        62  105   \n",
       "\n",
       "          Department      ...  WorkLifeBalance      YearsAtCompany       \\\n",
       "Gender        Female Male ...           Female Male         Female Male   \n",
       "Attrition                 ...                                             \n",
       "0                357  505 ...              357  505            357  505   \n",
       "1                 62  105 ...               62  105             62  105   \n",
       "\n",
       "          YearsInCurrentRole      YearsSinceLastPromotion       \\\n",
       "Gender                Female Male                  Female Male   \n",
       "Attrition                                                        \n",
       "0                        357  505                     357  505   \n",
       "1                         62  105                      62  105   \n",
       "\n",
       "          YearsWithCurrManager       \n",
       "Gender                  Female Male  \n",
       "Attrition                            \n",
       "0                          357  505  \n",
       "1                           62  105  \n",
       "\n",
       "[2 rows x 68 columns]"
      ]
     },
     "execution_count": 83,
     "metadata": {},
     "output_type": "execute_result"
    }
   ],
   "source": [
    "pd.pivot_table(data = train, index='Attrition', columns='Gender', aggfunc=np.count_nonzero)"
   ]
  },
  {
   "cell_type": "markdown",
   "metadata": {},
   "source": [
    "# Naive Bayes Algorithm"
   ]
  },
  {
   "cell_type": "code",
   "execution_count": 87,
   "metadata": {},
   "outputs": [
    {
     "data": {
      "text/plain": [
       "54.87528344671202"
      ]
     },
     "execution_count": 87,
     "metadata": {},
     "output_type": "execute_result"
    }
   ],
   "source": [
    "from sklearn.naive_bayes import GaussianNB\n",
    "df_model = pd.get_dummies(df_final)\n",
    "train, test = train_test_split(df_model, test_size = 0.3, random_state = 100)\n",
    "\n",
    "train_y = train['Attrition']\n",
    "test_y = test['Attrition']\n",
    "train_x = train.drop('Attrition', axis = 1)\n",
    "test_x = test.drop('Attrition', axis = 1)\n",
    "\n",
    "model = GaussianNB() \n",
    "model.fit(train_x, train_y)\n",
    "test_pred = model.predict(test_x)\n",
    "df_pred = pd.DataFrame({'actual' : test_y, 'predicted': test_pred})\n",
    "\n",
    "df_pred['pred_status'] = df_pred['actual'] == df_pred['predicted']\n",
    "accuracy = df_pred['pred_status'].sum() / df_pred.shape[0] * 100\n",
    "accuracy"
   ]
  },
  {
   "cell_type": "code",
   "execution_count": null,
   "metadata": {},
   "outputs": [],
   "source": []
  }
 ],
 "metadata": {
  "kernelspec": {
   "display_name": "Python 3",
   "language": "python",
   "name": "python3"
  },
  "language_info": {
   "codemirror_mode": {
    "name": "ipython",
    "version": 3
   },
   "file_extension": ".py",
   "mimetype": "text/x-python",
   "name": "python",
   "nbconvert_exporter": "python",
   "pygments_lexer": "ipython3",
   "version": "3.6.5"
  }
 },
 "nbformat": 4,
 "nbformat_minor": 2
}
