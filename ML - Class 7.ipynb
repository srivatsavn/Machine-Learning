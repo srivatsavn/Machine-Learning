{
 "cells": [
  {
   "cell_type": "code",
   "execution_count": 1,
   "metadata": {},
   "outputs": [],
   "source": [
    "import pandas as pd\n",
    "import numpy as np\n",
    "from sklearn.tree import DecisionTreeClassifier\n",
    "from sklearn.ensemble import RandomForestClassifier\n",
    "from sklearn.ensemble import AdaBoostClassifier\n",
    "from sklearn.model_selection import train_test_split\n",
    "from sklearn.metrics import confusion_matrix\n",
    "from sklearn.preprocessing import StandardScaler\n",
    "from sklearn.metrics.pairwise import euclidean_distances"
   ]
  },
  {
   "cell_type": "code",
   "execution_count": 63,
   "metadata": {},
   "outputs": [],
   "source": [
    "credit = pd.read_csv('C:/Users/Administrator/Desktop/Datasets/credit-default.csv')\n",
    "credit_dummies = pd.get_dummies(credit)\n",
    "train, test = train_test_split(credit_dummies, test_size = 0.3, random_state = 100)\n",
    "train_x = train.drop('default', axis = 1)\n",
    "test_x = test.drop('default', axis = 1)\n",
    "train_y = train['default']\n",
    "test_y = test['default']"
   ]
  },
  {
   "cell_type": "code",
   "execution_count": 64,
   "metadata": {},
   "outputs": [
    {
     "data": {
      "text/plain": [
       "(300, 61)"
      ]
     },
     "execution_count": 64,
     "metadata": {},
     "output_type": "execute_result"
    }
   ],
   "source": [
    "test_x.shape"
   ]
  },
  {
   "cell_type": "code",
   "execution_count": 65,
   "metadata": {},
   "outputs": [
    {
     "data": {
      "text/plain": [
       "0.73"
      ]
     },
     "execution_count": 65,
     "metadata": {},
     "output_type": "execute_result"
    }
   ],
   "source": [
    "from sklearn.metrics import accuracy_score, classification_report\n",
    "test_pred = np.ones(test_x.shape[0])\n",
    "accuracy_score(test_y, test_pred) "
   ]
  },
  {
   "cell_type": "code",
   "execution_count": 73,
   "metadata": {},
   "outputs": [
    {
     "data": {
      "text/plain": [
       "array([200,  19,  53,  28], dtype=int64)"
      ]
     },
     "execution_count": 73,
     "metadata": {},
     "output_type": "execute_result"
    }
   ],
   "source": [
    "confusion_matrix(test_y, test_pred, labels=[1,2]).ravel()"
   ]
  },
  {
   "cell_type": "code",
   "execution_count": 74,
   "metadata": {},
   "outputs": [
    {
     "name": "stdout",
     "output_type": "stream",
     "text": [
      "True Positive: 28\n",
      "True Negative: 200\n",
      "False Positive 53\n",
      "False Negative 19\n"
     ]
    }
   ],
   "source": [
    "# 1 = Negative, 2 = Positive\n",
    "\n",
    "df_pred = pd.DataFrame({'actual' : test_y,\n",
    "                       'predicted' : test_pred})\n",
    "## True Positive\n",
    "tp = df_pred[(df_pred['predicted'] == 2) & (df_pred['actual']==2)].shape[0]\n",
    "## True Negative\n",
    "tn = df_pred[(df_pred['predicted'] == 1) & (df_pred['actual']==1)].shape[0]\n",
    "## False Positive\n",
    "fp = df_pred[(df_pred['predicted'] == 1) & (df_pred['actual']==2)].shape[0]\n",
    "## False Negative\n",
    "fn = df_pred[(df_pred['predicted'] == 2) & (df_pred['actual']==1)].shape[0]\n",
    "\n",
    "print('True Positive: %d' % tp)\n",
    "print('True Negative: %d' % tn)\n",
    "print('False Positive %d' % fp)\n",
    "print('False Negative %d' % fn)"
   ]
  },
  {
   "cell_type": "code",
   "execution_count": 61,
   "metadata": {},
   "outputs": [
    {
     "data": {
      "text/plain": [
       "59.57446808510638"
      ]
     },
     "execution_count": 61,
     "metadata": {},
     "output_type": "execute_result"
    }
   ],
   "source": [
    "sensitivity = tp / (tp+fn) * 100\n",
    "sensitivity"
   ]
  },
  {
   "cell_type": "code",
   "execution_count": 62,
   "metadata": {},
   "outputs": [
    {
     "data": {
      "text/plain": [
       "79.05138339920948"
      ]
     },
     "execution_count": 62,
     "metadata": {},
     "output_type": "execute_result"
    }
   ],
   "source": [
    "specificity = tn / (fp+tn) * 100\n",
    "specificity"
   ]
  },
  {
   "cell_type": "markdown",
   "metadata": {},
   "source": [
    "# Parameter Tuning\n",
    "    - tuning the output"
   ]
  },
  {
   "cell_type": "code",
   "execution_count": 69,
   "metadata": {},
   "outputs": [
    {
     "data": {
      "text/plain": [
       "array([1, 2, 1, 2, 1], dtype=int64)"
      ]
     },
     "execution_count": 69,
     "metadata": {},
     "output_type": "execute_result"
    }
   ],
   "source": [
    "model = RandomForestClassifier(random_state=100)\n",
    "model.fit(train_x, train_y)\n",
    "test_pred = model.predict(test_x)\n",
    "accuracy_score(test_y, test_pred)\n",
    "confusion_matrix(test_y, test_pred, labels=[1,2])\n",
    "test_pred[:5]"
   ]
  },
  {
   "cell_type": "code",
   "execution_count": 68,
   "metadata": {},
   "outputs": [
    {
     "data": {
      "text/html": [
       "<div>\n",
       "<style scoped>\n",
       "    .dataframe tbody tr th:only-of-type {\n",
       "        vertical-align: middle;\n",
       "    }\n",
       "\n",
       "    .dataframe tbody tr th {\n",
       "        vertical-align: top;\n",
       "    }\n",
       "\n",
       "    .dataframe thead th {\n",
       "        text-align: right;\n",
       "    }\n",
       "</style>\n",
       "<table border=\"1\" class=\"dataframe\">\n",
       "  <thead>\n",
       "    <tr style=\"text-align: right;\">\n",
       "      <th></th>\n",
       "      <th>Neg_1</th>\n",
       "      <th>Pos_2</th>\n",
       "    </tr>\n",
       "  </thead>\n",
       "  <tbody>\n",
       "    <tr>\n",
       "      <th>0</th>\n",
       "      <td>0.5</td>\n",
       "      <td>0.5</td>\n",
       "    </tr>\n",
       "    <tr>\n",
       "      <th>1</th>\n",
       "      <td>0.1</td>\n",
       "      <td>0.9</td>\n",
       "    </tr>\n",
       "    <tr>\n",
       "      <th>2</th>\n",
       "      <td>0.7</td>\n",
       "      <td>0.3</td>\n",
       "    </tr>\n",
       "    <tr>\n",
       "      <th>3</th>\n",
       "      <td>0.3</td>\n",
       "      <td>0.7</td>\n",
       "    </tr>\n",
       "    <tr>\n",
       "      <th>4</th>\n",
       "      <td>0.6</td>\n",
       "      <td>0.4</td>\n",
       "    </tr>\n",
       "  </tbody>\n",
       "</table>\n",
       "</div>"
      ],
      "text/plain": [
       "   Neg_1  Pos_2\n",
       "0    0.5    0.5\n",
       "1    0.1    0.9\n",
       "2    0.7    0.3\n",
       "3    0.3    0.7\n",
       "4    0.6    0.4"
      ]
     },
     "execution_count": 68,
     "metadata": {},
     "output_type": "execute_result"
    }
   ],
   "source": [
    "probs = pd.DataFrame(model.predict_proba(test_x), columns=['Neg_1', 'Pos_2'])\n",
    "probs.head()"
   ]
  },
  {
   "cell_type": "code",
   "execution_count": 90,
   "metadata": {},
   "outputs": [
    {
     "name": "stdout",
     "output_type": "stream",
     "text": [
      "Cut-off 0.40, Sensitivity 48.1, Specificity 81.7\n"
     ]
    }
   ],
   "source": [
    "cut_off = 0.4\n",
    "test_pred2 = probs['Pos_2'].apply(lambda v: 2 if v > cut_off else 1)\n",
    "tn,fp,fn,tp = confusion_matrix(test_y, test_pred2, labels=[1,2]).ravel()\n",
    "sensitivity = tp / (tp+fn) * 100\n",
    "specificity = tn / (fp+tn) * 100\n",
    "\n",
    "print('Cut-off %.2f, Sensitivity %.1f, Specificity %.1f' % (cut_off, sensitivity, specificity))"
   ]
  },
  {
   "cell_type": "code",
   "execution_count": 72,
   "metadata": {},
   "outputs": [
    {
     "data": {
      "text/plain": [
       "0    2\n",
       "1    2\n",
       "2    1\n",
       "3    2\n",
       "4    2\n",
       "Name: Pos_2, dtype: int64"
      ]
     },
     "execution_count": 72,
     "metadata": {},
     "output_type": "execute_result"
    }
   ],
   "source": [
    "test_pred2.head()"
   ]
  },
  {
   "cell_type": "code",
   "execution_count": 79,
   "metadata": {},
   "outputs": [
    {
     "name": "stdout",
     "output_type": "stream",
     "text": [
      "[0.0, 0.1, 0.2, 0.30000000000000004, 0.4, 0.5, 0.6000000000000001, 0.7000000000000001, 0.8, 0.9, 1.0]\n",
      "-------\n",
      "[95.06172839506173, 90.12345679012346, 81.48148148148148, 65.4320987654321, 48.148148148148145, 34.5679012345679, 18.51851851851852, 4.938271604938271, 2.4691358024691357, 0.0, 0.0]\n",
      "---------\n",
      "[-12.24200913242009, -32.789954337899545, -48.31506849315068, -69.31963470319634, -80.7351598173516, -90.32420091324201, -94.8904109589041, -97.17351598173516, -97.63013698630137, -99.0, -99.0]\n"
     ]
    }
   ],
   "source": [
    "cut_offs = []\n",
    "tpr = []  # truepositive rate/ sensitivity\n",
    "fpr = []  # falsepositive rate/ specificity\n",
    "for cut_off in np.linspace(0,1, 11):\n",
    "    #print(cut_off)\n",
    "    test_pred2 = probs['Pos_2'].apply(lambda v: 2 if v > cut_off else 1)\n",
    "    tn,fp,fn,tp = confusion_matrix(test_y, test_pred2, labels=[1,2]).ravel()\n",
    "    sensitivity = tp / (tp+fn) * 100\n",
    "    specificity = tn / (fp+tn) * 100\n",
    "    cut_offs.append(cut_off)\n",
    "    tpr.append(sensitivity)\n",
    "    fpr.append(1 - specificity)\n",
    "print(cut_offs)\n",
    "print('-------')\n",
    "print(tpr)\n",
    "print('---------')\n",
    "print(fpr)"
   ]
  },
  {
   "cell_type": "code",
   "execution_count": 82,
   "metadata": {},
   "outputs": [
    {
     "data": {
      "text/plain": [
       "[<matplotlib.lines.Line2D at 0x1c4cc097898>]"
      ]
     },
     "execution_count": 82,
     "metadata": {},
     "output_type": "execute_result"
    },
    {
     "data": {
      "image/png": "[encoded data removed]",
      "text/plain": [
       "<Figure size 432x288 with 1 Axes>"
      ]
     },
     "metadata": {},
     "output_type": "display_data"
    }
   ],
   "source": [
    "import matplotlib.pyplot as plt\n",
    "plt.plot(fpr,tpr)"
   ]
  },
  {
   "cell_type": "code",
   "execution_count": 85,
   "metadata": {},
   "outputs": [
    {
     "data": {
      "text/plain": [
       "[<matplotlib.lines.Line2D at 0x1c4cc1b3fd0>]"
      ]
     },
     "execution_count": 85,
     "metadata": {},
     "output_type": "execute_result"
    },
    {
     "data": {
      "image/png": "[encoded data removed]",
      "text/plain": [
       "<Figure size 432x288 with 1 Axes>"
      ]
     },
     "metadata": {},
     "output_type": "display_data"
    }
   ],
   "source": [
    "from sklearn.metrics import roc_curve\n",
    "fpr, tpr, cutoffs = roc_curve(test_y, probs['Pos_2'], pos_label = 2)\n",
    "plt.plot(fpr,tpr)"
   ]
  },
  {
   "cell_type": "code",
   "execution_count": 91,
   "metadata": {},
   "outputs": [
    {
     "data": {
      "text/html": [
       "<div>\n",
       "<style scoped>\n",
       "    .dataframe tbody tr th:only-of-type {\n",
       "        vertical-align: middle;\n",
       "    }\n",
       "\n",
       "    .dataframe tbody tr th {\n",
       "        vertical-align: top;\n",
       "    }\n",
       "\n",
       "    .dataframe thead th {\n",
       "        text-align: right;\n",
       "    }\n",
       "</style>\n",
       "<table border=\"1\" class=\"dataframe\">\n",
       "  <thead>\n",
       "    <tr style=\"text-align: right;\">\n",
       "      <th></th>\n",
       "      <th>cut-off</th>\n",
       "      <th>fpr</th>\n",
       "      <th>tpr</th>\n",
       "      <th>specificity</th>\n",
       "      <th>youden_index</th>\n",
       "    </tr>\n",
       "  </thead>\n",
       "  <tbody>\n",
       "    <tr>\n",
       "      <th>6</th>\n",
       "      <td>0.4</td>\n",
       "      <td>0.296804</td>\n",
       "      <td>0.654321</td>\n",
       "      <td>0.703196</td>\n",
       "      <td>0.357517</td>\n",
       "    </tr>\n",
       "  </tbody>\n",
       "</table>\n",
       "</div>"
      ],
      "text/plain": [
       "   cut-off       fpr       tpr  specificity  youden_index\n",
       "6      0.4  0.296804  0.654321     0.703196      0.357517"
      ]
     },
     "execution_count": 91,
     "metadata": {},
     "output_type": "execute_result"
    }
   ],
   "source": [
    "df_roc = pd.DataFrame({'cut-off': cutoffs,\n",
    "                       'fpr':fpr, 'tpr': tpr, 'specificity': 1 - fpr})\n",
    "df_roc['youden_index'] = df_roc['tpr'] + df_roc['specificity'] - 1\n",
    "df_roc.sort_values(by='youden_index', ascending = False).head(1)"
   ]
  },
  {
   "cell_type": "code",
   "execution_count": 96,
   "metadata": {},
   "outputs": [
    {
     "data": {
      "text/plain": [
       "0    2\n",
       "1    2\n",
       "2    1\n",
       "3    2\n",
       "4    1\n",
       "Name: Pos_2, dtype: int64"
      ]
     },
     "execution_count": 96,
     "metadata": {},
     "output_type": "execute_result"
    }
   ],
   "source": [
    "test_pred_new = probs['Pos_2'].apply(lambda v: 2 if v> 0.4 else 1)\n",
    "test_pred_new.head()"
   ]
  },
  {
   "cell_type": "markdown",
   "metadata": {},
   "source": [
    "# Credit Dataset"
   ]
  },
  {
   "cell_type": "code",
   "execution_count": 112,
   "metadata": {},
   "outputs": [
    {
     "name": "stdout",
     "output_type": "stream",
     "text": [
      "Random Forest AUC : 0.75\n",
      "Decision Tree AUC : 0.65\n",
      "AdaBoost AUC : 0.74\n"
     ]
    },
    {
     "data": {
      "image/png": "[encoded data removed]",
      "text/plain": [
       "<Figure size 432x288 with 1 Axes>"
      ]
     },
     "metadata": {},
     "output_type": "display_data"
    }
   ],
   "source": [
    "from sklearn.metrics import auc\n",
    "\n",
    "#Random Forest\n",
    "\n",
    "model1 = RandomForestClassifier(random_state=100, n_estimators=1000)\n",
    "model1.fit(train_x, train_y)\n",
    "test_pred = model1.predict(test_x)\n",
    "probs = pd.DataFrame(model1.predict_proba(test_x), columns=['Neg_1', 'Pos_2'])\n",
    "fpr, tpr, cutoffs = roc_curve(test_y, probs['Pos_2'], pos_label = 2)\n",
    "plt.plot(fpr,tpr, color='red')\n",
    "auc_rf = auc(fpr, tpr)\n",
    "print('Random Forest AUC : %.2f' % auc_rf)\n",
    "\n",
    "#Decision Tree\n",
    "\n",
    "model2 = DecisionTreeClassifier(max_depth = 7, random_state=100)\n",
    "model2.fit(train_x, train_y)\n",
    "test_pred = model2.predict(test_x)\n",
    "probs = pd.DataFrame(model2.predict_proba(test_x), columns=['Neg_1', 'Pos_2'])\n",
    "fpr, tpr, cutoffs = roc_curve(test_y, probs['Pos_2'], pos_label = 2)\n",
    "plt.plot(fpr,tpr, color='green')\n",
    "auc_dt = auc(fpr, tpr)\n",
    "print('Decision Tree AUC : %.2f' % auc_dt)\n",
    "\n",
    "#AdaBoost\n",
    "\n",
    "model3 = AdaBoostClassifier(random_state=100)\n",
    "model3.fit(train_x, train_y)\n",
    "test_pred = model3.predict(test_x)\n",
    "probs = pd.DataFrame(model3.predict_proba(test_x), columns=['Neg_1', 'Pos_2'])\n",
    "fpr, tpr, cutoffs = roc_curve(test_y, probs['Pos_2'], pos_label = 2)\n",
    "plt.plot(fpr,tpr, color='blue')\n",
    "auc_ab = auc(fpr, tpr)\n",
    "print('AdaBoost AUC : %.2f' % auc_ab)"
   ]
  },
  {
   "cell_type": "markdown",
   "metadata": {},
   "source": [
    "# HR Dataset"
   ]
  },
  {
   "cell_type": "code",
   "execution_count": 115,
   "metadata": {},
   "outputs": [],
   "source": [
    "hr_url = 'https://raw.githubusercontent.com/skathirmani/datasets/master/HR%20Analytics.csv'\n",
    "hr = pd.read_csv(hr_url)\n",
    "\n",
    "hr_dummies = pd.get_dummies(hr)\n",
    "\n",
    "train, test = train_test_split(hr_dummies, test_size = 0.3, random_state = 100)\n",
    "\n",
    "train_y = train['Attrition']\n",
    "test_y = test['Attrition']\n",
    "train_x = train.drop('Attrition', axis = 1)\n",
    "test_x = test.drop('Attrition', axis = 1)"
   ]
  },
  {
   "cell_type": "code",
   "execution_count": 125,
   "metadata": {},
   "outputs": [
    {
     "name": "stdout",
     "output_type": "stream",
     "text": [
      "Random Forest AUC : 0.76\n",
      "Decision Tree AUC : 0.60\n",
      "AdaBoost AUC : 0.78\n"
     ]
    },
    {
     "data": {
      "image/png": "[encoded data removed]",
      "text/plain": [
       "<Figure size 432x288 with 1 Axes>"
      ]
     },
     "metadata": {},
     "output_type": "display_data"
    }
   ],
   "source": [
    "from sklearn.metrics import auc\n",
    "\n",
    "#Random Forest\n",
    "\n",
    "model1 = RandomForestClassifier(random_state=100, n_estimators=1000)\n",
    "model1.fit(train_x, train_y)\n",
    "test_pred = model1.predict(test_x)\n",
    "probs = pd.DataFrame(model1.predict_proba(test_x), columns=['Neg_1', 'Pos_2'])\n",
    "fpr, tpr, cutoffs = roc_curve(test_y, probs['Pos_2'], pos_label = 1)\n",
    "plt.plot(fpr,tpr, color='red')\n",
    "auc_rf = auc(fpr, tpr)\n",
    "print('Random Forest AUC : %.2f' % auc_rf)\n",
    "\n",
    "#Decision Tree\n",
    "\n",
    "model2 = DecisionTreeClassifier(max_depth = 7, random_state=100)\n",
    "model2.fit(train_x, train_y)\n",
    "test_pred = model2.predict(test_x)\n",
    "probs = pd.DataFrame(model2.predict_proba(test_x), columns=['Neg_1', 'Pos_2'])\n",
    "fpr, tpr, cutoffs = roc_curve(test_y, probs['Pos_2'], pos_label = 1)\n",
    "plt.plot(fpr,tpr, color='green')\n",
    "auc_dt = auc(fpr, tpr)\n",
    "print('Decision Tree AUC : %.2f' % auc_dt)\n",
    "\n",
    "#AdaBoost\n",
    "\n",
    "model3 = AdaBoostClassifier(random_state=100)\n",
    "model3.fit(train_x, train_y)\n",
    "test_pred = model3.predict(test_x)\n",
    "probs = pd.DataFrame(model3.predict_proba(test_x), columns=['Neg_1', 'Pos_2'])\n",
    "fpr, tpr, cutoffs = roc_curve(test_y, probs['Pos_2'], pos_label = 1)\n",
    "plt.plot(fpr,tpr, color='blue')\n",
    "auc_ab = auc(fpr, tpr)\n",
    "print('AdaBoost AUC : %.2f' % auc_ab)"
   ]
  },
  {
   "cell_type": "markdown",
   "metadata": {},
   "source": [
    "# Bank Dataset"
   ]
  },
  {
   "cell_type": "code",
   "execution_count": 128,
   "metadata": {},
   "outputs": [],
   "source": [
    "bank = pd.read_csv('C:/Users/Administrator/Desktop/Datasets/bank.csv', sep= ';')\n",
    "bank_new = bank.drop('y', axis = 1)\n",
    "bank_dummies = pd.get_dummies(bank_new)\n",
    "bank_dummies['y'] = bank['y']\n",
    "train, test = train_test_split(bank_dummies, test_size = 0.3, random_state = 100)\n",
    "train_y = train['y']\n",
    "test_y = test['y']\n",
    "train_x = train.drop('y', axis = 1)\n",
    "test_x = test.drop('y', axis = 1)"
   ]
  },
  {
   "cell_type": "code",
   "execution_count": 132,
   "metadata": {},
   "outputs": [
    {
     "name": "stdout",
     "output_type": "stream",
     "text": [
      "Random Forest AUC : 0.93\n",
      "Decision Tree AUC : 0.86\n",
      "AdaBoost AUC : 0.91\n"
     ]
    },
    {
     "data": {
      "image/png": "[encoded data removed]",
      "text/plain": [
       "<Figure size 432x288 with 1 Axes>"
      ]
     },
     "metadata": {},
     "output_type": "display_data"
    }
   ],
   "source": [
    "from sklearn.metrics import auc\n",
    "\n",
    "#Random Forest\n",
    "\n",
    "model1 = RandomForestClassifier(random_state=100, n_estimators=1000)\n",
    "model1.fit(train_x, train_y)\n",
    "test_pred = model1.predict(test_x)\n",
    "probs = pd.DataFrame(model1.predict_proba(test_x), columns=['Neg_1', 'Pos_2'])\n",
    "fpr, tpr, cutoffs = roc_curve(test_y, probs['Pos_2'], pos_label = 'yes')\n",
    "plt.plot(fpr,tpr, color='red')\n",
    "auc_rf = auc(fpr, tpr)\n",
    "print('Random Forest AUC : %.2f' % auc_rf)\n",
    "\n",
    "#Decision Tree\n",
    "\n",
    "model2 = DecisionTreeClassifier(max_depth = 7, random_state=100)\n",
    "model2.fit(train_x, train_y)\n",
    "test_pred = model2.predict(test_x)\n",
    "probs = pd.DataFrame(model2.predict_proba(test_x), columns=['Neg_1', 'Pos_2'])\n",
    "fpr, tpr, cutoffs = roc_curve(test_y, probs['Pos_2'], pos_label = 'yes')\n",
    "plt.plot(fpr,tpr, color='green')\n",
    "auc_dt = auc(fpr, tpr)\n",
    "print('Decision Tree AUC : %.2f' % auc_dt)\n",
    "\n",
    "#AdaBoost\n",
    "\n",
    "model3 = AdaBoostClassifier(random_state=100)\n",
    "model3.fit(train_x, train_y)\n",
    "test_pred = model3.predict(test_x)\n",
    "probs = pd.DataFrame(model3.predict_proba(test_x), columns=['Neg_1', 'Pos_2'])\n",
    "fpr, tpr, cutoffs = roc_curve(test_y, probs['Pos_2'], pos_label = 'yes')\n",
    "plt.plot(fpr,tpr, color='blue')\n",
    "auc_ab = auc(fpr, tpr)\n",
    "print('AdaBoost AUC : %.2f' % auc_ab)"
   ]
  },
  {
   "cell_type": "code",
   "execution_count": null,
   "metadata": {},
   "outputs": [],
   "source": []
  }
 ],
 "metadata": {
  "kernelspec": {
   "display_name": "Python 3",
   "language": "python",
   "name": "python3"
  },
  "language_info": {
   "codemirror_mode": {
    "name": "ipython",
    "version": 3
   },
   "file_extension": ".py",
   "mimetype": "text/x-python",
   "name": "python",
   "nbconvert_exporter": "python",
   "pygments_lexer": "ipython3",
   "version": "3.6.5"
  }
 },
 "nbformat": 4,
 "nbformat_minor": 2
}
