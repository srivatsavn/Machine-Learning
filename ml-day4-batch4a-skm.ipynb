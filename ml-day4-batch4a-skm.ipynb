{
 "cells": [
  {
   "cell_type": "code",
   "execution_count": 13,
   "metadata": {},
   "outputs": [],
   "source": [
    "import pandas as pd\n",
    "import numpy as np\n",
    "from sklearn.tree import DecisionTreeClassifier\n",
    "from sklearn.ensemble import RandomForestClassifier\n",
    "from sklearn.model_selection import train_test_split\n",
    "from sklearn.preprocessing import StandardScaler\n",
    "from sklearn.metrics.pairwise import euclidean_distances"
   ]
  },
  {
   "cell_type": "code",
   "execution_count": 7,
   "metadata": {},
   "outputs": [],
   "source": [
    "hr = pd.read_csv('/datasets/employees_attrition.csv')\n",
    "hr_dummy = pd.get_dummies(hr)\n",
    "scaler = StandardScaler()\n",
    "hr_scaled = scaler.fit_transform(hr_dummy.drop('Attrition', axis=1))\n",
    "hr_scaled = pd.DataFrame(hr_scaled, \n",
    "                         columns=hr_dummy.drop('Attrition', axis=1).columns)\n",
    "hr_scaled['Attrition'] = hr['Attrition']\n",
    "#hr_scaled.head(1)"
   ]
  },
  {
   "cell_type": "code",
   "execution_count": 39,
   "metadata": {},
   "outputs": [
    {
     "data": {
      "text/plain": [
       "0"
      ]
     },
     "execution_count": 39,
     "metadata": {},
     "output_type": "execute_result"
    }
   ],
   "source": [
    "train, test = train_test_split(hr_scaled,\n",
    "                              test_size=0.3,\n",
    "                              random_state=100)\n",
    "train_x = train.drop('Attrition', axis=1)\n",
    "train_y = train['Attrition']\n",
    "\n",
    "test_x = test.drop('Attrition', axis=1)\n",
    "test_y = test['Attrition']\n",
    "\n",
    "distances = pd.Series(euclidean_distances(test_x.tail(1), train_x).flatten())\n",
    "distances.index = train_y.index\n",
    "neighs = distances.sort_values().head().index.tolist()\n",
    "\n",
    "train_y.loc[neighs].value_counts().index.tolist()[0]"
   ]
  },
  {
   "cell_type": "code",
   "execution_count": 37,
   "metadata": {},
   "outputs": [],
   "source": [
    "#train_x.head(1)"
   ]
  },
  {
   "cell_type": "code",
   "execution_count": 38,
   "metadata": {},
   "outputs": [],
   "source": [
    "#test_x.head(1)"
   ]
  },
  {
   "cell_type": "code",
   "execution_count": 30,
   "metadata": {},
   "outputs": [],
   "source": [
    "distances = pd.Series(euclidean_distances(test_x.tail(1), train_x).flatten())\n",
    "distances.index = train_y.index"
   ]
  },
  {
   "cell_type": "code",
   "execution_count": 31,
   "metadata": {},
   "outputs": [
    {
     "data": {
      "text/plain": [
       "[1307, 391, 934, 383, 498]"
      ]
     },
     "execution_count": 31,
     "metadata": {},
     "output_type": "execute_result"
    }
   ],
   "source": [
    "neighs = distances.sort_values().head().index.tolist()\n",
    "neighs"
   ]
  },
  {
   "cell_type": "code",
   "execution_count": 36,
   "metadata": {},
   "outputs": [
    {
     "data": {
      "text/plain": [
       "0"
      ]
     },
     "execution_count": 36,
     "metadata": {},
     "output_type": "execute_result"
    }
   ],
   "source": [
    "train_y.loc[neighs].value_counts().index.tolist()[0]"
   ]
  }
 ],
 "metadata": {
  "kernelspec": {
   "display_name": "Python 3",
   "language": "python",
   "name": "python3"
  },
  "language_info": {
   "codemirror_mode": {
    "name": "ipython",
    "version": 3
   },
   "file_extension": ".py",
   "mimetype": "text/x-python",
   "name": "python",
   "nbconvert_exporter": "python",
   "pygments_lexer": "ipython3",
   "version": "3.6.5"
  }
 },
 "nbformat": 4,
 "nbformat_minor": 2
}
